{
 "cells": [
  {
   "cell_type": "markdown",
   "metadata": {},
   "source": [
    "### Import Libraries"
   ]
  },
  {
   "cell_type": "code",
   "execution_count": 8,
   "metadata": {},
   "outputs": [],
   "source": [
    "# Manipulation Libraries\n",
    "import pandas as pd\n",
    "import numpy as np\n",
    "\n",
    "# Visualization libraries\n",
    "import plotly.graph_objects as go"
   ]
  },
  {
   "cell_type": "markdown",
   "metadata": {},
   "source": [
    "## I. Prepare the Data\n",
    "\n",
    "> Note: land covered in 1000 ha, fires in ha."
   ]
  },
  {
   "cell_type": "code",
   "execution_count": 9,
   "metadata": {},
   "outputs": [
    {
     "data": {
      "text/html": [
       "<div>\n",
       "<style scoped>\n",
       "    .dataframe tbody tr th:only-of-type {\n",
       "        vertical-align: middle;\n",
       "    }\n",
       "\n",
       "    .dataframe tbody tr th {\n",
       "        vertical-align: top;\n",
       "    }\n",
       "\n",
       "    .dataframe thead th {\n",
       "        text-align: right;\n",
       "    }\n",
       "</style>\n",
       "<table border=\"1\" class=\"dataframe\">\n",
       "  <thead>\n",
       "    <tr style=\"text-align: right;\">\n",
       "      <th>Year</th>\n",
       "      <th>Area</th>\n",
       "      <th>Area Code (ISO3)</th>\n",
       "      <th>2001</th>\n",
       "      <th>2018</th>\n",
       "      <th>%change</th>\n",
       "    </tr>\n",
       "  </thead>\n",
       "  <tbody>\n",
       "    <tr>\n",
       "      <th>0</th>\n",
       "      <td>Afghanistan</td>\n",
       "      <td>AFG</td>\n",
       "      <td>554.8927</td>\n",
       "      <td>617.1694</td>\n",
       "      <td>11.223197</td>\n",
       "    </tr>\n",
       "    <tr>\n",
       "      <th>1</th>\n",
       "      <td>Albania</td>\n",
       "      <td>ALB</td>\n",
       "      <td>1397.3035</td>\n",
       "      <td>1562.2214</td>\n",
       "      <td>11.802583</td>\n",
       "    </tr>\n",
       "    <tr>\n",
       "      <th>2</th>\n",
       "      <td>Algeria</td>\n",
       "      <td>DZA</td>\n",
       "      <td>561.8261</td>\n",
       "      <td>867.6890</td>\n",
       "      <td>54.440849</td>\n",
       "    </tr>\n",
       "    <tr>\n",
       "      <th>3</th>\n",
       "      <td>American Samoa</td>\n",
       "      <td>ASM</td>\n",
       "      <td>0.0000</td>\n",
       "      <td>0.0000</td>\n",
       "      <td>NaN</td>\n",
       "    </tr>\n",
       "    <tr>\n",
       "      <th>4</th>\n",
       "      <td>Andorra</td>\n",
       "      <td>AND</td>\n",
       "      <td>41.0213</td>\n",
       "      <td>41.6223</td>\n",
       "      <td>1.465093</td>\n",
       "    </tr>\n",
       "  </tbody>\n",
       "</table>\n",
       "</div>"
      ],
      "text/plain": [
       "Year            Area Area Code (ISO3)       2001       2018    %change\n",
       "0        Afghanistan              AFG   554.8927   617.1694  11.223197\n",
       "1            Albania              ALB  1397.3035  1562.2214  11.802583\n",
       "2            Algeria              DZA   561.8261   867.6890  54.440849\n",
       "3     American Samoa              ASM     0.0000     0.0000        NaN\n",
       "4            Andorra              AND    41.0213    41.6223   1.465093"
      ]
     },
     "execution_count": 9,
     "metadata": {},
     "output_type": "execute_result"
    }
   ],
   "source": [
    "# === Covered Forest Land ===\n",
    "\n",
    "# Import the data\n",
    "cover = pd.read_csv(\"land_cover_data_11-30-2021.csv\")\n",
    "\n",
    "# Filter only tree-covered areas & Group\n",
    "cover = cover[cover[\"Item\"] == \"Tree-covered areas\"]\n",
    "cover = cover.groupby([\"Area\", \"Area Code (ISO3)\", \"Year\"])[\"Value\"].sum().reset_index()\n",
    "\n",
    "# Select only the base year (2001) and reference year (2018)\n",
    "# and compute the percent change between them\n",
    "cover = cover[(cover[\"Year\"] == 2001) | (cover[\"Year\"] == 2018)].reset_index()\n",
    "cover = cover.pivot(index=[\"Area\", \"Area Code (ISO3)\"], columns=\"Year\", values=\"Value\").reset_index()\n",
    "cover[\"%change\"] = ((cover[2018] - cover[2001])/ cover[2001])*100\n",
    "\n",
    "cover.head()"
   ]
  },
  {
   "cell_type": "code",
   "execution_count": 10,
   "metadata": {},
   "outputs": [
    {
     "data": {
      "text/html": [
       "<div>\n",
       "<style scoped>\n",
       "    .dataframe tbody tr th:only-of-type {\n",
       "        vertical-align: middle;\n",
       "    }\n",
       "\n",
       "    .dataframe tbody tr th {\n",
       "        vertical-align: top;\n",
       "    }\n",
       "\n",
       "    .dataframe thead th {\n",
       "        text-align: right;\n",
       "    }\n",
       "</style>\n",
       "<table border=\"1\" class=\"dataframe\">\n",
       "  <thead>\n",
       "    <tr style=\"text-align: right;\">\n",
       "      <th>Year</th>\n",
       "      <th>Area</th>\n",
       "      <th>Area Code (ISO3)</th>\n",
       "      <th>2001</th>\n",
       "      <th>2018</th>\n",
       "      <th>%change</th>\n",
       "    </tr>\n",
       "  </thead>\n",
       "  <tbody>\n",
       "    <tr>\n",
       "      <th>0</th>\n",
       "      <td>Afghanistan</td>\n",
       "      <td>AFG</td>\n",
       "      <td>9.016835e+02</td>\n",
       "      <td>8.160739e+02</td>\n",
       "      <td>-9.494418</td>\n",
       "    </tr>\n",
       "    <tr>\n",
       "      <th>1</th>\n",
       "      <td>Albania</td>\n",
       "      <td>ALB</td>\n",
       "      <td>7.950820e+03</td>\n",
       "      <td>6.059400e+03</td>\n",
       "      <td>-23.788995</td>\n",
       "    </tr>\n",
       "    <tr>\n",
       "      <th>2</th>\n",
       "      <td>Algeria</td>\n",
       "      <td>DZA</td>\n",
       "      <td>9.625480e+04</td>\n",
       "      <td>2.662371e+03</td>\n",
       "      <td>-97.234039</td>\n",
       "    </tr>\n",
       "    <tr>\n",
       "      <th>5</th>\n",
       "      <td>Angola</td>\n",
       "      <td>AGO</td>\n",
       "      <td>6.267062e+07</td>\n",
       "      <td>6.280184e+07</td>\n",
       "      <td>0.209379</td>\n",
       "    </tr>\n",
       "    <tr>\n",
       "      <th>8</th>\n",
       "      <td>Argentina</td>\n",
       "      <td>ARG</td>\n",
       "      <td>1.391189e+07</td>\n",
       "      <td>5.974105e+06</td>\n",
       "      <td>-57.057546</td>\n",
       "    </tr>\n",
       "  </tbody>\n",
       "</table>\n",
       "</div>"
      ],
      "text/plain": [
       "Year         Area Area Code (ISO3)          2001          2018    %change\n",
       "0     Afghanistan              AFG  9.016835e+02  8.160739e+02  -9.494418\n",
       "1         Albania              ALB  7.950820e+03  6.059400e+03 -23.788995\n",
       "2         Algeria              DZA  9.625480e+04  2.662371e+03 -97.234039\n",
       "5          Angola              AGO  6.267062e+07  6.280184e+07   0.209379\n",
       "8       Argentina              ARG  1.391189e+07  5.974105e+06 -57.057546"
      ]
     },
     "execution_count": 10,
     "metadata": {},
     "output_type": "execute_result"
    }
   ],
   "source": [
    "# === Savanna and Forest Fires ===\n",
    "# Import the data\n",
    "fires = pd.read_csv(\"fires_data_11-29-2021.csv\")\n",
    "\n",
    "# Group data\n",
    "fires = fires.groupby([\"Area\", \"Area Code (ISO3)\", \"Year\"])[\"Value\"].sum().reset_index()\n",
    "\n",
    "# Select only the base year (2001) and reference year (2018)\n",
    "# and compute the percent change between them\n",
    "# (same years to facilitate the correct comparison)\n",
    "fires = fires[(fires[\"Year\"] == 2001) | (fires[\"Year\"] == 2018)].reset_index()\n",
    "fires = fires.pivot(index=[\"Area\", \"Area Code (ISO3)\"], columns=\"Year\", values=\"Value\").reset_index()\n",
    "fires[\"%change\"] = ((fires[2018] - fires[2001])/ fires[2001])*100\n",
    "\n",
    "# Replace infinite updated data with nan\n",
    "fires.replace([np.inf, -np.inf], np.nan, inplace=True)\n",
    "# Drop rows with NaN\n",
    "fires.dropna(inplace=True)\n",
    "\n",
    "fires.head()"
   ]
  },
  {
   "cell_type": "markdown",
   "metadata": {},
   "source": [
    "## II. Create the Maps"
   ]
  },
  {
   "cell_type": "code",
   "execution_count": 11,
   "metadata": {},
   "outputs": [
    {
     "data": {
      "application/vnd.plotly.v1+json": {
       "config": {
        "plotlyServerURL": "https://plot.ly"
       },
       "data": [
        {
         "autocolorscale": false,
         "colorbar": {
          "tickprefix": "%",
          "title": {
           "text": "%change"
          }
         },
         "colorscale": [
          [
           0,
           "rgb(165,0,38)"
          ],
          [
           0.1,
           "rgb(215,48,39)"
          ],
          [
           0.2,
           "rgb(244,109,67)"
          ],
          [
           0.3,
           "rgb(253,174,97)"
          ],
          [
           0.4,
           "rgb(254,224,139)"
          ],
          [
           0.5,
           "rgb(255,255,191)"
          ],
          [
           0.6,
           "rgb(217,239,139)"
          ],
          [
           0.7,
           "rgb(166,217,106)"
          ],
          [
           0.8,
           "rgb(102,189,99)"
          ],
          [
           0.9,
           "rgb(26,152,80)"
          ],
          [
           1,
           "rgb(0,104,55)"
          ]
         ],
         "locations": [
          "AFG",
          "ALB",
          "DZA",
          "ASM",
          "AND",
          "AGO",
          "AIA",
          "ATA",
          "ATG",
          "ARG",
          "ARM",
          "ABW",
          "AUS",
          "AUT",
          "AZE",
          "BHS",
          "BHR",
          "BGD",
          "BRB",
          "BLR",
          "BEL",
          "BLZ",
          "BEN",
          "BMU",
          "BTN",
          "BOL",
          "BIH",
          "BWA",
          "BRA",
          "VGB",
          "BRN",
          "BGR",
          "BFA",
          "BDI",
          "CPV",
          "KHM",
          "CMR",
          "CAN",
          "CYM",
          "CAF",
          "TCD",
          "IOT",
          "CHA",
          "CHL",
          "CHN",
          "HKG",
          "MAC",
          "TWN",
          "41",
          "COL",
          "COM",
          "COG",
          "COK",
          "CRI",
          "HRV",
          "CUB",
          "CYP",
          "CZE",
          "CIV",
          "PRK",
          "COD",
          "DNK",
          "DJI",
          "DMA",
          "DOM",
          "ECU",
          "EGY",
          "SLV",
          "GNQ",
          "ERI",
          "EST",
          "SWZ",
          "ETH",
          "FLK",
          "FRO",
          "FJI",
          "FIN",
          "FRA",
          "GUF",
          "PYF",
          "ATF",
          "GAB",
          "GMB",
          "GEO",
          "DEU",
          "GHA",
          "GIB",
          "GRC",
          "GRL",
          "GRD",
          "GLP",
          "GUM",
          "GTM",
          "GIN",
          "GNB",
          "GUY",
          "HTI",
          "HMD",
          "VAT",
          "HND",
          "HUN",
          "ISL",
          "IND",
          "IDN",
          "IRN",
          "IRQ",
          "IRL",
          "IMN",
          "ISR",
          "ITA",
          "JAM",
          "JPN",
          "JTN",
          "JOR",
          "KAZ",
          "KEN",
          "KIR",
          "KWT",
          "KGZ",
          "LAO",
          "LVA",
          "LBN",
          "LSO",
          "LBR",
          "LBY",
          "LIE",
          "LTU",
          "LUX",
          "MDG",
          "MWI",
          "MYS",
          "MDV",
          "MLI",
          "MLT",
          "MHL",
          "MTQ",
          "MRT",
          "MUS",
          "MYT",
          "MEX",
          "FSM",
          "MID",
          "MCO",
          "MNG",
          "MNE",
          "MSR",
          "MAR",
          "MOZ",
          "MMR",
          "NAM",
          "NRU",
          "NPL",
          "NLD",
          "ANT",
          "NCL",
          "NZL",
          "NIC",
          "NER",
          "NGA",
          "NIU",
          "NFK",
          "MKD",
          "MNP",
          "NOR",
          "OMN",
          "PAK",
          "PLW",
          "PSE",
          "PAN",
          "PNG",
          "PRY",
          "PER",
          "PHL",
          "PCN",
          "POL",
          "PRT",
          "PRI",
          "QAT",
          "KOR",
          "MDA",
          "ROU",
          "RUS",
          "RWA",
          "REU",
          "SHN",
          "KNA",
          "LCA",
          "SPM",
          "VCT",
          "WSM",
          "SMR",
          "STP",
          "SAU",
          "SEN",
          "SRB",
          "SCG",
          "SYC",
          "SLE",
          "SGP",
          "SVK",
          "SVN",
          "SLB",
          "SOM",
          "ZAF",
          "SGS",
          "SSD",
          "ESP",
          "LKA",
          "SDN",
          "206",
          "SUR",
          "SWE",
          "CHE",
          "SYR",
          "TJK",
          "THA",
          "TLS",
          "TGO",
          "TKL",
          "TON",
          "TTO",
          "TUN",
          "TUR",
          "TKM",
          "TCA",
          "TUV",
          "UGA",
          "UKR",
          "ARE",
          "GBR",
          "TZA",
          "VIR",
          "USA",
          "URY",
          "UZB",
          "VUT",
          "VEN",
          "VNM",
          "WAK",
          "WLF",
          "ESH",
          "YEM",
          "ZMB",
          "ZWE"
         ],
         "marker": {
          "line": {
           "color": "#2E2E2E",
           "width": 0.5
          }
         },
         "reversescale": false,
         "text": [
          "Afghanistan",
          "Albania",
          "Algeria",
          "American Samoa",
          "Andorra",
          "Angola",
          "Anguilla",
          "Antarctica",
          "Antigua and Barbuda",
          "Argentina",
          "Armenia",
          "Aruba",
          "Australia",
          "Austria",
          "Azerbaijan",
          "Bahamas",
          "Bahrain",
          "Bangladesh",
          "Barbados",
          "Belarus",
          "Belgium",
          "Belize",
          "Benin",
          "Bermuda",
          "Bhutan",
          "Bolivia (Plurinational State of)",
          "Bosnia and Herzegovina",
          "Botswana",
          "Brazil",
          "British Virgin Islands",
          "Brunei Darussalam",
          "Bulgaria",
          "Burkina Faso",
          "Burundi",
          "Cabo Verde",
          "Cambodia",
          "Cameroon",
          "Canada",
          "Cayman Islands",
          "Central African Republic",
          "Chad",
          "Chagos Archipelago",
          "Channel Islands",
          "Chile",
          "China",
          "China, Hong Kong SAR",
          "China, Macao SAR",
          "China, Taiwan Province of",
          "China, mainland",
          "Colombia",
          "Comoros",
          "Congo",
          "Cook Islands",
          "Costa Rica",
          "Croatia",
          "Cuba",
          "Cyprus",
          "Czechia",
          "Côte d'Ivoire",
          "Democratic People's Republic of Korea",
          "Democratic Republic of the Congo",
          "Denmark",
          "Djibouti",
          "Dominica",
          "Dominican Republic",
          "Ecuador",
          "Egypt",
          "El Salvador",
          "Equatorial Guinea",
          "Eritrea",
          "Estonia",
          "Eswatini",
          "Ethiopia",
          "Falkland Islands (Malvinas)",
          "Faroe Islands",
          "Fiji",
          "Finland",
          "France",
          "French Guyana",
          "French Polynesia",
          "French Southern Territories",
          "Gabon",
          "Gambia",
          "Georgia",
          "Germany",
          "Ghana",
          "Gibraltar",
          "Greece",
          "Greenland",
          "Grenada",
          "Guadeloupe",
          "Guam",
          "Guatemala",
          "Guinea",
          "Guinea-Bissau",
          "Guyana",
          "Haiti",
          "Heard and McDonald Islands",
          "Holy See",
          "Honduras",
          "Hungary",
          "Iceland",
          "India",
          "Indonesia",
          "Iran (Islamic Republic of)",
          "Iraq",
          "Ireland",
          "Isle of Man",
          "Israel",
          "Italy",
          "Jamaica",
          "Japan",
          "Johnston Island",
          "Jordan",
          "Kazakhstan",
          "Kenya",
          "Kiribati",
          "Kuwait",
          "Kyrgyzstan",
          "Lao People's Democratic Republic",
          "Latvia",
          "Lebanon",
          "Lesotho",
          "Liberia",
          "Libya",
          "Liechtenstein",
          "Lithuania",
          "Luxembourg",
          "Madagascar",
          "Malawi",
          "Malaysia",
          "Maldives",
          "Mali",
          "Malta",
          "Marshall Islands",
          "Martinique",
          "Mauritania",
          "Mauritius",
          "Mayotte",
          "Mexico",
          "Micronesia (Federated States of)",
          "Midway Island",
          "Monaco",
          "Mongolia",
          "Montenegro",
          "Montserrat",
          "Morocco",
          "Mozambique",
          "Myanmar",
          "Namibia",
          "Nauru",
          "Nepal",
          "Netherlands",
          "Netherlands Antilles (former)",
          "New Caledonia",
          "New Zealand",
          "Nicaragua",
          "Niger",
          "Nigeria",
          "Niue",
          "Norfolk Island",
          "North Macedonia",
          "Northern Mariana Islands",
          "Norway",
          "Oman",
          "Pakistan",
          "Palau",
          "Palestine",
          "Panama",
          "Papua New Guinea",
          "Paraguay",
          "Peru",
          "Philippines",
          "Pitcairn",
          "Poland",
          "Portugal",
          "Puerto Rico",
          "Qatar",
          "Republic of Korea",
          "Republic of Moldova",
          "Romania",
          "Russian Federation",
          "Rwanda",
          "Réunion",
          "Saint Helena, Ascension and Tristan da Cunha",
          "Saint Kitts and Nevis",
          "Saint Lucia",
          "Saint Pierre and Miquelon",
          "Saint Vincent and the Grenadines",
          "Samoa",
          "San Marino",
          "Sao Tome and Principe",
          "Saudi Arabia",
          "Senegal",
          "Serbia",
          "Serbia and Montenegro",
          "Seychelles",
          "Sierra Leone",
          "Singapore",
          "Slovakia",
          "Slovenia",
          "Solomon Islands",
          "Somalia",
          "South Africa",
          "South Georgia and the South Sandwich Islands",
          "South Sudan",
          "Spain",
          "Sri Lanka",
          "Sudan",
          "Sudan (former)",
          "Suriname",
          "Sweden",
          "Switzerland",
          "Syrian Arab Republic",
          "Tajikistan",
          "Thailand",
          "Timor-Leste",
          "Togo",
          "Tokelau",
          "Tonga",
          "Trinidad and Tobago",
          "Tunisia",
          "Turkey",
          "Turkmenistan",
          "Turks and Caicos Islands",
          "Tuvalu",
          "Uganda",
          "Ukraine",
          "United Arab Emirates",
          "United Kingdom of Great Britain and Northern Ireland",
          "United Republic of Tanzania",
          "United States Virgin Islands",
          "United States of America",
          "Uruguay",
          "Uzbekistan",
          "Vanuatu",
          "Venezuela (Bolivarian Republic of)",
          "Viet Nam",
          "Wake Island",
          "Wallis and Futuna Islands",
          "Western Sahara",
          "Yemen",
          "Zambia",
          "Zimbabwe"
         ],
         "type": "choropleth",
         "z": [
          11.223196845083743,
          11.802582617162265,
          54.440849223629876,
          null,
          1.4650925251028277,
          -4.106592403252188,
          null,
          24.91268917345751,
          1.1552132701421784,
          -2.4568653013407906,
          -3.737019777771523,
          null,
          7.001159292046187,
          -2.1814951070386215,
          17.25605803288629,
          -20.74796425503365,
          null,
          -8.38905279627957,
          110.21106674272674,
          -3.339083876850752,
          -1.3980714585781635,
          -3.42078112814787,
          -9.811566463819874,
          null,
          1.0202337811337578,
          -2.4941136737777265,
          3.6041919104506484,
          -20.826296556856818,
          -4.717690975581692,
          9.106310885218125,
          0.35049087377249444,
          11.41589942316007,
          -80.8504311626524,
          -40.129287001923636,
          150.11655011655014,
          -14.267021887028154,
          2.0733804089299532,
          -0.3961557106433939,
          null,
          0.2579681538914559,
          -6.1185620057881955,
          null,
          null,
          -1.8198361044243958,
          2.8681241925636045,
          -5.395034467901773,
          null,
          -2.2770776729623243,
          2.919665466041919,
          -0.74434502474593,
          0.2391525482031514,
          5.059786059851561,
          null,
          0.004493867793635081,
          3.138252023000365,
          6.0869154394398395,
          22.265452677309995,
          0.3852434513302383,
          -1.3209794516772522,
          -0.6236017833895175,
          -0.2948529525163059,
          -5.022533564028595,
          null,
          -1.309596429832722,
          1.1740197281936973,
          -1.1113276115786184,
          -12.755543140634003,
          0.40106619325018245,
          2.859726895474496,
          14.821490467937595,
          -4.42776383695583,
          22.513296232890067,
          -1.624087356179402,
          -40.72611274334305,
          -53.754144457967854,
          0.9001369376680047,
          -0.988221135144939,
          -1.591819790179315,
          -0.19060569187498827,
          -1.5563759001002655,
          21.00853906192654,
          9.330415148632964,
          -22.78701507521609,
          2.1763510072822205,
          -0.4372481073760276,
          -2.855928242800475,
          null,
          13.172523313491643,
          -41.925262431183725,
          4.204636427123614,
          16.55185818856785,
          null,
          -0.8286388941606462,
          -0.47520090580477575,
          -0.7320376809522777,
          -0.22054167248643125,
          5.578822510628983,
          null,
          0,
          -0.7770251569516944,
          9.240862381089308,
          -6.5985341703005655,
          3.557406855155345,
          -0.41088876630583715,
          1.0684123034667936,
          -35.64210963026304,
          6.662663135591053,
          -7.8366586955331305,
          31.81845682249022,
          6.85416068015769,
          3.8156042083644035,
          -2.8303400321808163,
          null,
          -79.06350180751653,
          11.297417592877403,
          -6.959138381896595,
          -100,
          null,
          -3.2273253920677334,
          -3.4480241392063258,
          -8.027187392576446,
          65.67806000480945,
          100,
          1.0796844651349757,
          262.5509609784508,
          -3.5844562226968675,
          -8.79246418530317,
          -6.005599798470775,
          -9.750378991320513,
          -13.206092391681942,
          -0.9732701695126448,
          null,
          15.53485956750969,
          null,
          null,
          -0.36594898031692435,
          -51.61169133668946,
          15.730629655041298,
          -2.674360645680763,
          4.013258161487128,
          19.70071292440177,
          null,
          null,
          25.893944883840618,
          null,
          null,
          70.41968687008055,
          -3.8545646678788468,
          -1.395668431538218,
          4.8078717701777585,
          null,
          3.152238553916706,
          -6.672063537074941,
          null,
          -0.8072442130331573,
          3.4827411704634277,
          -0.31597594011542474,
          -98.55763846894668,
          -8.124619880743039,
          null,
          null,
          17.161767778031237,
          null,
          -5.246616281286396,
          33.307453416149066,
          39.06197474067916,
          null,
          110.16975917883933,
          1.8354723716618175,
          -0.4727865804857603,
          -5.542322340117821,
          0.2668887640017264,
          0.9491449617228547,
          null,
          4.728089849994801,
          1.563102161587187,
          10.922361180844863,
          null,
          -0.6021424961066913,
          37.601451747228815,
          -0.7814981343862517,
          0.555061340578725,
          -24.070592937016887,
          3.2358741578726193,
          40.07455731593661,
          null,
          0.9525304683473876,
          -23.8574429863289,
          2.8515910449744157,
          -1.9624638948512063,
          8.407440646161383,
          26.659463059426365,
          44.15706204434764,
          25.75390221686676,
          null,
          null,
          -23.877068557919618,
          -1.2351152625950903,
          -11.23603739413546,
          0.13295946040059503,
          0.07333307510218576,
          -0.756897264012402,
          -46.95159101960165,
          7.203858200263307,
          100.23310023310023,
          null,
          9.51598248033571,
          -2.272455013073301,
          null,
          null,
          -0.4680424496147027,
          -1.3778845179755197,
          -4.08044212406225,
          17.91366519969735,
          15.81679461887672,
          4.692343394123069,
          1.5520517832386835,
          -9.430625691696987,
          null,
          12.500606589993671,
          8.429424934397074,
          9.2393804915697,
          14.061635954076934,
          177.7691511387163,
          null,
          null,
          -7.372787332191436,
          -1.6805391577794755,
          null,
          -5.343803038282359,
          -4.494523417628638,
          -60.01863932898417,
          -0.12330147940635718,
          12.538369571264042,
          38.21733880013555,
          -0.38125368594164705,
          -1.2904598004288508,
          -0.5165815347136673,
          null,
          null,
          null,
          0.7040981984389998,
          -0.7826394335512302,
          17.11867269964448
         ]
        }
       ],
       "layout": {
        "font": {
         "color": "black"
        },
        "geo": {
         "projection": {
          "type": "equirectangular"
         },
         "showcoastlines": false,
         "showframe": false
        },
        "height": 600,
        "paper_bgcolor": "white",
        "plot_bgcolor": "white",
        "template": {
         "data": {
          "bar": [
           {
            "error_x": {
             "color": "#2a3f5f"
            },
            "error_y": {
             "color": "#2a3f5f"
            },
            "marker": {
             "line": {
              "color": "#E5ECF6",
              "width": 0.5
             },
             "pattern": {
              "fillmode": "overlay",
              "size": 10,
              "solidity": 0.2
             }
            },
            "type": "bar"
           }
          ],
          "barpolar": [
           {
            "marker": {
             "line": {
              "color": "#E5ECF6",
              "width": 0.5
             },
             "pattern": {
              "fillmode": "overlay",
              "size": 10,
              "solidity": 0.2
             }
            },
            "type": "barpolar"
           }
          ],
          "carpet": [
           {
            "aaxis": {
             "endlinecolor": "#2a3f5f",
             "gridcolor": "white",
             "linecolor": "white",
             "minorgridcolor": "white",
             "startlinecolor": "#2a3f5f"
            },
            "baxis": {
             "endlinecolor": "#2a3f5f",
             "gridcolor": "white",
             "linecolor": "white",
             "minorgridcolor": "white",
             "startlinecolor": "#2a3f5f"
            },
            "type": "carpet"
           }
          ],
          "choropleth": [
           {
            "colorbar": {
             "outlinewidth": 0,
             "ticks": ""
            },
            "type": "choropleth"
           }
          ],
          "contour": [
           {
            "colorbar": {
             "outlinewidth": 0,
             "ticks": ""
            },
            "colorscale": [
             [
              0,
              "#0d0887"
             ],
             [
              0.1111111111111111,
              "#46039f"
             ],
             [
              0.2222222222222222,
              "#7201a8"
             ],
             [
              0.3333333333333333,
              "#9c179e"
             ],
             [
              0.4444444444444444,
              "#bd3786"
             ],
             [
              0.5555555555555556,
              "#d8576b"
             ],
             [
              0.6666666666666666,
              "#ed7953"
             ],
             [
              0.7777777777777778,
              "#fb9f3a"
             ],
             [
              0.8888888888888888,
              "#fdca26"
             ],
             [
              1,
              "#f0f921"
             ]
            ],
            "type": "contour"
           }
          ],
          "contourcarpet": [
           {
            "colorbar": {
             "outlinewidth": 0,
             "ticks": ""
            },
            "type": "contourcarpet"
           }
          ],
          "heatmap": [
           {
            "colorbar": {
             "outlinewidth": 0,
             "ticks": ""
            },
            "colorscale": [
             [
              0,
              "#0d0887"
             ],
             [
              0.1111111111111111,
              "#46039f"
             ],
             [
              0.2222222222222222,
              "#7201a8"
             ],
             [
              0.3333333333333333,
              "#9c179e"
             ],
             [
              0.4444444444444444,
              "#bd3786"
             ],
             [
              0.5555555555555556,
              "#d8576b"
             ],
             [
              0.6666666666666666,
              "#ed7953"
             ],
             [
              0.7777777777777778,
              "#fb9f3a"
             ],
             [
              0.8888888888888888,
              "#fdca26"
             ],
             [
              1,
              "#f0f921"
             ]
            ],
            "type": "heatmap"
           }
          ],
          "heatmapgl": [
           {
            "colorbar": {
             "outlinewidth": 0,
             "ticks": ""
            },
            "colorscale": [
             [
              0,
              "#0d0887"
             ],
             [
              0.1111111111111111,
              "#46039f"
             ],
             [
              0.2222222222222222,
              "#7201a8"
             ],
             [
              0.3333333333333333,
              "#9c179e"
             ],
             [
              0.4444444444444444,
              "#bd3786"
             ],
             [
              0.5555555555555556,
              "#d8576b"
             ],
             [
              0.6666666666666666,
              "#ed7953"
             ],
             [
              0.7777777777777778,
              "#fb9f3a"
             ],
             [
              0.8888888888888888,
              "#fdca26"
             ],
             [
              1,
              "#f0f921"
             ]
            ],
            "type": "heatmapgl"
           }
          ],
          "histogram": [
           {
            "marker": {
             "pattern": {
              "fillmode": "overlay",
              "size": 10,
              "solidity": 0.2
             }
            },
            "type": "histogram"
           }
          ],
          "histogram2d": [
           {
            "colorbar": {
             "outlinewidth": 0,
             "ticks": ""
            },
            "colorscale": [
             [
              0,
              "#0d0887"
             ],
             [
              0.1111111111111111,
              "#46039f"
             ],
             [
              0.2222222222222222,
              "#7201a8"
             ],
             [
              0.3333333333333333,
              "#9c179e"
             ],
             [
              0.4444444444444444,
              "#bd3786"
             ],
             [
              0.5555555555555556,
              "#d8576b"
             ],
             [
              0.6666666666666666,
              "#ed7953"
             ],
             [
              0.7777777777777778,
              "#fb9f3a"
             ],
             [
              0.8888888888888888,
              "#fdca26"
             ],
             [
              1,
              "#f0f921"
             ]
            ],
            "type": "histogram2d"
           }
          ],
          "histogram2dcontour": [
           {
            "colorbar": {
             "outlinewidth": 0,
             "ticks": ""
            },
            "colorscale": [
             [
              0,
              "#0d0887"
             ],
             [
              0.1111111111111111,
              "#46039f"
             ],
             [
              0.2222222222222222,
              "#7201a8"
             ],
             [
              0.3333333333333333,
              "#9c179e"
             ],
             [
              0.4444444444444444,
              "#bd3786"
             ],
             [
              0.5555555555555556,
              "#d8576b"
             ],
             [
              0.6666666666666666,
              "#ed7953"
             ],
             [
              0.7777777777777778,
              "#fb9f3a"
             ],
             [
              0.8888888888888888,
              "#fdca26"
             ],
             [
              1,
              "#f0f921"
             ]
            ],
            "type": "histogram2dcontour"
           }
          ],
          "mesh3d": [
           {
            "colorbar": {
             "outlinewidth": 0,
             "ticks": ""
            },
            "type": "mesh3d"
           }
          ],
          "parcoords": [
           {
            "line": {
             "colorbar": {
              "outlinewidth": 0,
              "ticks": ""
             }
            },
            "type": "parcoords"
           }
          ],
          "pie": [
           {
            "automargin": true,
            "type": "pie"
           }
          ],
          "scatter": [
           {
            "marker": {
             "colorbar": {
              "outlinewidth": 0,
              "ticks": ""
             }
            },
            "type": "scatter"
           }
          ],
          "scatter3d": [
           {
            "line": {
             "colorbar": {
              "outlinewidth": 0,
              "ticks": ""
             }
            },
            "marker": {
             "colorbar": {
              "outlinewidth": 0,
              "ticks": ""
             }
            },
            "type": "scatter3d"
           }
          ],
          "scattercarpet": [
           {
            "marker": {
             "colorbar": {
              "outlinewidth": 0,
              "ticks": ""
             }
            },
            "type": "scattercarpet"
           }
          ],
          "scattergeo": [
           {
            "marker": {
             "colorbar": {
              "outlinewidth": 0,
              "ticks": ""
             }
            },
            "type": "scattergeo"
           }
          ],
          "scattergl": [
           {
            "marker": {
             "colorbar": {
              "outlinewidth": 0,
              "ticks": ""
             }
            },
            "type": "scattergl"
           }
          ],
          "scattermapbox": [
           {
            "marker": {
             "colorbar": {
              "outlinewidth": 0,
              "ticks": ""
             }
            },
            "type": "scattermapbox"
           }
          ],
          "scatterpolar": [
           {
            "marker": {
             "colorbar": {
              "outlinewidth": 0,
              "ticks": ""
             }
            },
            "type": "scatterpolar"
           }
          ],
          "scatterpolargl": [
           {
            "marker": {
             "colorbar": {
              "outlinewidth": 0,
              "ticks": ""
             }
            },
            "type": "scatterpolargl"
           }
          ],
          "scatterternary": [
           {
            "marker": {
             "colorbar": {
              "outlinewidth": 0,
              "ticks": ""
             }
            },
            "type": "scatterternary"
           }
          ],
          "surface": [
           {
            "colorbar": {
             "outlinewidth": 0,
             "ticks": ""
            },
            "colorscale": [
             [
              0,
              "#0d0887"
             ],
             [
              0.1111111111111111,
              "#46039f"
             ],
             [
              0.2222222222222222,
              "#7201a8"
             ],
             [
              0.3333333333333333,
              "#9c179e"
             ],
             [
              0.4444444444444444,
              "#bd3786"
             ],
             [
              0.5555555555555556,
              "#d8576b"
             ],
             [
              0.6666666666666666,
              "#ed7953"
             ],
             [
              0.7777777777777778,
              "#fb9f3a"
             ],
             [
              0.8888888888888888,
              "#fdca26"
             ],
             [
              1,
              "#f0f921"
             ]
            ],
            "type": "surface"
           }
          ],
          "table": [
           {
            "cells": {
             "fill": {
              "color": "#EBF0F8"
             },
             "line": {
              "color": "white"
             }
            },
            "header": {
             "fill": {
              "color": "#C8D4E3"
             },
             "line": {
              "color": "white"
             }
            },
            "type": "table"
           }
          ]
         },
         "layout": {
          "annotationdefaults": {
           "arrowcolor": "#2a3f5f",
           "arrowhead": 0,
           "arrowwidth": 1
          },
          "autotypenumbers": "strict",
          "coloraxis": {
           "colorbar": {
            "outlinewidth": 0,
            "ticks": ""
           }
          },
          "colorscale": {
           "diverging": [
            [
             0,
             "#8e0152"
            ],
            [
             0.1,
             "#c51b7d"
            ],
            [
             0.2,
             "#de77ae"
            ],
            [
             0.3,
             "#f1b6da"
            ],
            [
             0.4,
             "#fde0ef"
            ],
            [
             0.5,
             "#f7f7f7"
            ],
            [
             0.6,
             "#e6f5d0"
            ],
            [
             0.7,
             "#b8e186"
            ],
            [
             0.8,
             "#7fbc41"
            ],
            [
             0.9,
             "#4d9221"
            ],
            [
             1,
             "#276419"
            ]
           ],
           "sequential": [
            [
             0,
             "#0d0887"
            ],
            [
             0.1111111111111111,
             "#46039f"
            ],
            [
             0.2222222222222222,
             "#7201a8"
            ],
            [
             0.3333333333333333,
             "#9c179e"
            ],
            [
             0.4444444444444444,
             "#bd3786"
            ],
            [
             0.5555555555555556,
             "#d8576b"
            ],
            [
             0.6666666666666666,
             "#ed7953"
            ],
            [
             0.7777777777777778,
             "#fb9f3a"
            ],
            [
             0.8888888888888888,
             "#fdca26"
            ],
            [
             1,
             "#f0f921"
            ]
           ],
           "sequentialminus": [
            [
             0,
             "#0d0887"
            ],
            [
             0.1111111111111111,
             "#46039f"
            ],
            [
             0.2222222222222222,
             "#7201a8"
            ],
            [
             0.3333333333333333,
             "#9c179e"
            ],
            [
             0.4444444444444444,
             "#bd3786"
            ],
            [
             0.5555555555555556,
             "#d8576b"
            ],
            [
             0.6666666666666666,
             "#ed7953"
            ],
            [
             0.7777777777777778,
             "#fb9f3a"
            ],
            [
             0.8888888888888888,
             "#fdca26"
            ],
            [
             1,
             "#f0f921"
            ]
           ]
          },
          "colorway": [
           "#636efa",
           "#EF553B",
           "#00cc96",
           "#ab63fa",
           "#FFA15A",
           "#19d3f3",
           "#FF6692",
           "#B6E880",
           "#FF97FF",
           "#FECB52"
          ],
          "font": {
           "color": "#2a3f5f"
          },
          "geo": {
           "bgcolor": "white",
           "lakecolor": "white",
           "landcolor": "#E5ECF6",
           "showlakes": true,
           "showland": true,
           "subunitcolor": "white"
          },
          "hoverlabel": {
           "align": "left"
          },
          "hovermode": "closest",
          "mapbox": {
           "style": "light"
          },
          "paper_bgcolor": "white",
          "plot_bgcolor": "#E5ECF6",
          "polar": {
           "angularaxis": {
            "gridcolor": "white",
            "linecolor": "white",
            "ticks": ""
           },
           "bgcolor": "#E5ECF6",
           "radialaxis": {
            "gridcolor": "white",
            "linecolor": "white",
            "ticks": ""
           }
          },
          "scene": {
           "xaxis": {
            "backgroundcolor": "#E5ECF6",
            "gridcolor": "white",
            "gridwidth": 2,
            "linecolor": "white",
            "showbackground": true,
            "ticks": "",
            "zerolinecolor": "white"
           },
           "yaxis": {
            "backgroundcolor": "#E5ECF6",
            "gridcolor": "white",
            "gridwidth": 2,
            "linecolor": "white",
            "showbackground": true,
            "ticks": "",
            "zerolinecolor": "white"
           },
           "zaxis": {
            "backgroundcolor": "#E5ECF6",
            "gridcolor": "white",
            "gridwidth": 2,
            "linecolor": "white",
            "showbackground": true,
            "ticks": "",
            "zerolinecolor": "white"
           }
          },
          "shapedefaults": {
           "line": {
            "color": "#2a3f5f"
           }
          },
          "ternary": {
           "aaxis": {
            "gridcolor": "white",
            "linecolor": "white",
            "ticks": ""
           },
           "baxis": {
            "gridcolor": "white",
            "linecolor": "white",
            "ticks": ""
           },
           "bgcolor": "#E5ECF6",
           "caxis": {
            "gridcolor": "white",
            "linecolor": "white",
            "ticks": ""
           }
          },
          "title": {
           "x": 0.05
          },
          "xaxis": {
           "automargin": true,
           "gridcolor": "white",
           "linecolor": "white",
           "ticks": "",
           "title": {
            "standoff": 15
           },
           "zerolinecolor": "white",
           "zerolinewidth": 2
          },
          "yaxis": {
           "automargin": true,
           "gridcolor": "white",
           "linecolor": "white",
           "ticks": "",
           "title": {
            "standoff": 15
           },
           "zerolinecolor": "white",
           "zerolinewidth": 2
          }
         }
        },
        "title": {
         "text": "<b>Tree-Covered %Change</b><br><sup>2018 vs 2001</sup>",
         "x": 0.5,
         "xanchor": "center"
        },
        "width": 980
       }
      },
      "image/png": "[encoded data removed]",
      "text/html": [
       "<div>                            <div id=\"840fd5cd-a17f-4f10-b1cf-f43cb4230bfc\" class=\"plotly-graph-div\" style=\"height:600px; width:980px;\"></div>            <script type=\"text/javascript\">                require([\"plotly\"], function(Plotly) {                    window.PLOTLYENV=window.PLOTLYENV || {};                                    if (document.getElementById(\"840fd5cd-a17f-4f10-b1cf-f43cb4230bfc\")) {                    Plotly.newPlot(                        \"840fd5cd-a17f-4f10-b1cf-f43cb4230bfc\",                        [{\"autocolorscale\":false,\"colorbar\":{\"tickprefix\":\"%\",\"title\":{\"text\":\"%change\"}},\"colorscale\":[[0.0,\"rgb(165,0,38)\"],[0.1,\"rgb(215,48,39)\"],[0.2,\"rgb(244,109,67)\"],[0.3,\"rgb(253,174,97)\"],[0.4,\"rgb(254,224,139)\"],[0.5,\"rgb(255,255,191)\"],[0.6,\"rgb(217,239,139)\"],[0.7,\"rgb(166,217,106)\"],[0.8,\"rgb(102,189,99)\"],[0.9,\"rgb(26,152,80)\"],[1.0,\"rgb(0,104,55)\"]],\"locations\":[\"AFG\",\"ALB\",\"DZA\",\"ASM\",\"AND\",\"AGO\",\"AIA\",\"ATA\",\"ATG\",\"ARG\",\"ARM\",\"ABW\",\"AUS\",\"AUT\",\"AZE\",\"BHS\",\"BHR\",\"BGD\",\"BRB\",\"BLR\",\"BEL\",\"BLZ\",\"BEN\",\"BMU\",\"BTN\",\"BOL\",\"BIH\",\"BWA\",\"BRA\",\"VGB\",\"BRN\",\"BGR\",\"BFA\",\"BDI\",\"CPV\",\"KHM\",\"CMR\",\"CAN\",\"CYM\",\"CAF\",\"TCD\",\"IOT\",\"CHA\",\"CHL\",\"CHN\",\"HKG\",\"MAC\",\"TWN\",\"41\",\"COL\",\"COM\",\"COG\",\"COK\",\"CRI\",\"HRV\",\"CUB\",\"CYP\",\"CZE\",\"CIV\",\"PRK\",\"COD\",\"DNK\",\"DJI\",\"DMA\",\"DOM\",\"ECU\",\"EGY\",\"SLV\",\"GNQ\",\"ERI\",\"EST\",\"SWZ\",\"ETH\",\"FLK\",\"FRO\",\"FJI\",\"FIN\",\"FRA\",\"GUF\",\"PYF\",\"ATF\",\"GAB\",\"GMB\",\"GEO\",\"DEU\",\"GHA\",\"GIB\",\"GRC\",\"GRL\",\"GRD\",\"GLP\",\"GUM\",\"GTM\",\"GIN\",\"GNB\",\"GUY\",\"HTI\",\"HMD\",\"VAT\",\"HND\",\"HUN\",\"ISL\",\"IND\",\"IDN\",\"IRN\",\"IRQ\",\"IRL\",\"IMN\",\"ISR\",\"ITA\",\"JAM\",\"JPN\",\"JTN\",\"JOR\",\"KAZ\",\"KEN\",\"KIR\",\"KWT\",\"KGZ\",\"LAO\",\"LVA\",\"LBN\",\"LSO\",\"LBR\",\"LBY\",\"LIE\",\"LTU\",\"LUX\",\"MDG\",\"MWI\",\"MYS\",\"MDV\",\"MLI\",\"MLT\",\"MHL\",\"MTQ\",\"MRT\",\"MUS\",\"MYT\",\"MEX\",\"FSM\",\"MID\",\"MCO\",\"MNG\",\"MNE\",\"MSR\",\"MAR\",\"MOZ\",\"MMR\",\"NAM\",\"NRU\",\"NPL\",\"NLD\",\"ANT\",\"NCL\",\"NZL\",\"NIC\",\"NER\",\"NGA\",\"NIU\",\"NFK\",\"MKD\",\"MNP\",\"NOR\",\"OMN\",\"PAK\",\"PLW\",\"PSE\",\"PAN\",\"PNG\",\"PRY\",\"PER\",\"PHL\",\"PCN\",\"POL\",\"PRT\",\"PRI\",\"QAT\",\"KOR\",\"MDA\",\"ROU\",\"RUS\",\"RWA\",\"REU\",\"SHN\",\"KNA\",\"LCA\",\"SPM\",\"VCT\",\"WSM\",\"SMR\",\"STP\",\"SAU\",\"SEN\",\"SRB\",\"SCG\",\"SYC\",\"SLE\",\"SGP\",\"SVK\",\"SVN\",\"SLB\",\"SOM\",\"ZAF\",\"SGS\",\"SSD\",\"ESP\",\"LKA\",\"SDN\",\"206\",\"SUR\",\"SWE\",\"CHE\",\"SYR\",\"TJK\",\"THA\",\"TLS\",\"TGO\",\"TKL\",\"TON\",\"TTO\",\"TUN\",\"TUR\",\"TKM\",\"TCA\",\"TUV\",\"UGA\",\"UKR\",\"ARE\",\"GBR\",\"TZA\",\"VIR\",\"USA\",\"URY\",\"UZB\",\"VUT\",\"VEN\",\"VNM\",\"WAK\",\"WLF\",\"ESH\",\"YEM\",\"ZMB\",\"ZWE\"],\"marker\":{\"line\":{\"color\":\"#2E2E2E\",\"width\":0.5}},\"reversescale\":false,\"text\":[\"Afghanistan\",\"Albania\",\"Algeria\",\"American Samoa\",\"Andorra\",\"Angola\",\"Anguilla\",\"Antarctica\",\"Antigua and Barbuda\",\"Argentina\",\"Armenia\",\"Aruba\",\"Australia\",\"Austria\",\"Azerbaijan\",\"Bahamas\",\"Bahrain\",\"Bangladesh\",\"Barbados\",\"Belarus\",\"Belgium\",\"Belize\",\"Benin\",\"Bermuda\",\"Bhutan\",\"Bolivia (Plurinational State of)\",\"Bosnia and Herzegovina\",\"Botswana\",\"Brazil\",\"British Virgin Islands\",\"Brunei Darussalam\",\"Bulgaria\",\"Burkina Faso\",\"Burundi\",\"Cabo Verde\",\"Cambodia\",\"Cameroon\",\"Canada\",\"Cayman Islands\",\"Central African Republic\",\"Chad\",\"Chagos Archipelago\",\"Channel Islands\",\"Chile\",\"China\",\"China, Hong Kong SAR\",\"China, Macao SAR\",\"China, Taiwan Province of\",\"China, mainland\",\"Colombia\",\"Comoros\",\"Congo\",\"Cook Islands\",\"Costa Rica\",\"Croatia\",\"Cuba\",\"Cyprus\",\"Czechia\",\"C\\u00f4te d'Ivoire\",\"Democratic People's Republic of Korea\",\"Democratic Republic of the Congo\",\"Denmark\",\"Djibouti\",\"Dominica\",\"Dominican Republic\",\"Ecuador\",\"Egypt\",\"El Salvador\",\"Equatorial Guinea\",\"Eritrea\",\"Estonia\",\"Eswatini\",\"Ethiopia\",\"Falkland Islands (Malvinas)\",\"Faroe Islands\",\"Fiji\",\"Finland\",\"France\",\"French Guyana\",\"French Polynesia\",\"French Southern Territories\",\"Gabon\",\"Gambia\",\"Georgia\",\"Germany\",\"Ghana\",\"Gibraltar\",\"Greece\",\"Greenland\",\"Grenada\",\"Guadeloupe\",\"Guam\",\"Guatemala\",\"Guinea\",\"Guinea-Bissau\",\"Guyana\",\"Haiti\",\"Heard and McDonald Islands\",\"Holy See\",\"Honduras\",\"Hungary\",\"Iceland\",\"India\",\"Indonesia\",\"Iran (Islamic Republic of)\",\"Iraq\",\"Ireland\",\"Isle of Man\",\"Israel\",\"Italy\",\"Jamaica\",\"Japan\",\"Johnston Island\",\"Jordan\",\"Kazakhstan\",\"Kenya\",\"Kiribati\",\"Kuwait\",\"Kyrgyzstan\",\"Lao People's Democratic Republic\",\"Latvia\",\"Lebanon\",\"Lesotho\",\"Liberia\",\"Libya\",\"Liechtenstein\",\"Lithuania\",\"Luxembourg\",\"Madagascar\",\"Malawi\",\"Malaysia\",\"Maldives\",\"Mali\",\"Malta\",\"Marshall Islands\",\"Martinique\",\"Mauritania\",\"Mauritius\",\"Mayotte\",\"Mexico\",\"Micronesia (Federated States of)\",\"Midway Island\",\"Monaco\",\"Mongolia\",\"Montenegro\",\"Montserrat\",\"Morocco\",\"Mozambique\",\"Myanmar\",\"Namibia\",\"Nauru\",\"Nepal\",\"Netherlands\",\"Netherlands Antilles (former)\",\"New Caledonia\",\"New Zealand\",\"Nicaragua\",\"Niger\",\"Nigeria\",\"Niue\",\"Norfolk Island\",\"North Macedonia\",\"Northern Mariana Islands\",\"Norway\",\"Oman\",\"Pakistan\",\"Palau\",\"Palestine\",\"Panama\",\"Papua New Guinea\",\"Paraguay\",\"Peru\",\"Philippines\",\"Pitcairn\",\"Poland\",\"Portugal\",\"Puerto Rico\",\"Qatar\",\"Republic of Korea\",\"Republic of Moldova\",\"Romania\",\"Russian Federation\",\"Rwanda\",\"R\\u00e9union\",\"Saint Helena, Ascension and Tristan da Cunha\",\"Saint Kitts and Nevis\",\"Saint Lucia\",\"Saint Pierre and Miquelon\",\"Saint Vincent and the Grenadines\",\"Samoa\",\"San Marino\",\"Sao Tome and Principe\",\"Saudi Arabia\",\"Senegal\",\"Serbia\",\"Serbia and Montenegro\",\"Seychelles\",\"Sierra Leone\",\"Singapore\",\"Slovakia\",\"Slovenia\",\"Solomon Islands\",\"Somalia\",\"South Africa\",\"South Georgia and the South Sandwich Islands\",\"South Sudan\",\"Spain\",\"Sri Lanka\",\"Sudan\",\"Sudan (former)\",\"Suriname\",\"Sweden\",\"Switzerland\",\"Syrian Arab Republic\",\"Tajikistan\",\"Thailand\",\"Timor-Leste\",\"Togo\",\"Tokelau\",\"Tonga\",\"Trinidad and Tobago\",\"Tunisia\",\"Turkey\",\"Turkmenistan\",\"Turks and Caicos Islands\",\"Tuvalu\",\"Uganda\",\"Ukraine\",\"United Arab Emirates\",\"United Kingdom of Great Britain and Northern Ireland\",\"United Republic of Tanzania\",\"United States Virgin Islands\",\"United States of America\",\"Uruguay\",\"Uzbekistan\",\"Vanuatu\",\"Venezuela (Bolivarian Republic of)\",\"Viet Nam\",\"Wake Island\",\"Wallis and Futuna Islands\",\"Western Sahara\",\"Yemen\",\"Zambia\",\"Zimbabwe\"],\"z\":[11.223196845083743,11.802582617162265,54.440849223629876,null,1.4650925251028277,-4.106592403252188,null,24.91268917345751,1.1552132701421784,-2.4568653013407906,-3.737019777771523,null,7.001159292046187,-2.1814951070386215,17.25605803288629,-20.74796425503365,null,-8.38905279627957,110.21106674272674,-3.339083876850752,-1.3980714585781635,-3.42078112814787,-9.811566463819874,null,1.0202337811337578,-2.4941136737777265,3.6041919104506484,-20.826296556856818,-4.717690975581692,9.106310885218125,0.35049087377249444,11.41589942316007,-80.8504311626524,-40.129287001923636,150.11655011655014,-14.267021887028154,2.0733804089299532,-0.3961557106433939,null,0.2579681538914559,-6.1185620057881955,null,null,-1.8198361044243958,2.8681241925636045,-5.395034467901773,null,-2.2770776729623243,2.919665466041919,-0.74434502474593,0.2391525482031514,5.059786059851561,null,0.004493867793635081,3.138252023000365,6.0869154394398395,22.265452677309995,0.3852434513302383,-1.3209794516772522,-0.6236017833895175,-0.2948529525163059,-5.022533564028595,null,-1.309596429832722,1.1740197281936973,-1.1113276115786184,-12.755543140634003,0.40106619325018245,2.859726895474496,14.821490467937595,-4.42776383695583,22.513296232890067,-1.624087356179402,-40.72611274334305,-53.754144457967854,0.9001369376680047,-0.988221135144939,-1.591819790179315,-0.19060569187498827,-1.5563759001002655,21.00853906192654,9.330415148632964,-22.78701507521609,2.1763510072822205,-0.4372481073760276,-2.855928242800475,null,13.172523313491643,-41.925262431183725,4.204636427123614,16.55185818856785,null,-0.8286388941606462,-0.47520090580477575,-0.7320376809522777,-0.22054167248643125,5.578822510628983,null,0.0,-0.7770251569516944,9.240862381089308,-6.5985341703005655,3.557406855155345,-0.41088876630583715,1.0684123034667936,-35.64210963026304,6.662663135591053,-7.8366586955331305,31.81845682249022,6.85416068015769,3.8156042083644035,-2.8303400321808163,null,-79.06350180751653,11.297417592877403,-6.959138381896595,-100.0,null,-3.2273253920677334,-3.4480241392063258,-8.027187392576446,65.67806000480945,100.0,1.0796844651349757,262.5509609784508,-3.5844562226968675,-8.79246418530317,-6.005599798470775,-9.750378991320513,-13.206092391681942,-0.9732701695126448,null,15.53485956750969,null,null,-0.36594898031692435,-51.61169133668946,15.730629655041298,-2.674360645680763,4.013258161487128,19.70071292440177,null,null,25.893944883840618,null,null,70.41968687008055,-3.8545646678788468,-1.395668431538218,4.8078717701777585,null,3.152238553916706,-6.672063537074941,null,-0.8072442130331573,3.4827411704634277,-0.31597594011542474,-98.55763846894668,-8.124619880743039,null,null,17.161767778031237,null,-5.246616281286396,33.307453416149066,39.06197474067916,null,110.16975917883933,1.8354723716618175,-0.4727865804857603,-5.542322340117821,0.2668887640017264,0.9491449617228547,null,4.728089849994801,1.563102161587187,10.922361180844863,null,-0.6021424961066913,37.601451747228815,-0.7814981343862517,0.555061340578725,-24.070592937016887,3.2358741578726193,40.07455731593661,null,0.9525304683473876,-23.8574429863289,2.8515910449744157,-1.9624638948512063,8.407440646161383,26.659463059426365,44.15706204434764,25.75390221686676,null,null,-23.877068557919618,-1.2351152625950903,-11.23603739413546,0.13295946040059503,0.07333307510218576,-0.756897264012402,-46.95159101960165,7.203858200263307,100.23310023310023,null,9.51598248033571,-2.272455013073301,null,null,-0.4680424496147027,-1.3778845179755197,-4.08044212406225,17.91366519969735,15.81679461887672,4.692343394123069,1.5520517832386835,-9.430625691696987,null,12.500606589993671,8.429424934397074,9.2393804915697,14.061635954076934,177.7691511387163,null,null,-7.372787332191436,-1.6805391577794755,null,-5.343803038282359,-4.494523417628638,-60.01863932898417,-0.12330147940635718,12.538369571264042,38.21733880013555,-0.38125368594164705,-1.2904598004288508,-0.5165815347136673,null,null,null,0.7040981984389998,-0.7826394335512302,17.11867269964448],\"type\":\"choropleth\"}],                        {\"font\":{\"color\":\"black\"},\"geo\":{\"projection\":{\"type\":\"equirectangular\"},\"showcoastlines\":false,\"showframe\":false},\"height\":600,\"paper_bgcolor\":\"white\",\"plot_bgcolor\":\"white\",\"title\":{\"text\":\"<b>Tree-Covered %Change</b><br><sup>2018 vs 2001</sup>\",\"x\":0.5,\"xanchor\":\"center\"},\"width\":980,\"template\":{\"data\":{\"bar\":[{\"error_x\":{\"color\":\"#2a3f5f\"},\"error_y\":{\"color\":\"#2a3f5f\"},\"marker\":{\"line\":{\"color\":\"#E5ECF6\",\"width\":0.5},\"pattern\":{\"fillmode\":\"overlay\",\"size\":10,\"solidity\":0.2}},\"type\":\"bar\"}],\"barpolar\":[{\"marker\":{\"line\":{\"color\":\"#E5ECF6\",\"width\":0.5},\"pattern\":{\"fillmode\":\"overlay\",\"size\":10,\"solidity\":0.2}},\"type\":\"barpolar\"}],\"carpet\":[{\"aaxis\":{\"endlinecolor\":\"#2a3f5f\",\"gridcolor\":\"white\",\"linecolor\":\"white\",\"minorgridcolor\":\"white\",\"startlinecolor\":\"#2a3f5f\"},\"baxis\":{\"endlinecolor\":\"#2a3f5f\",\"gridcolor\":\"white\",\"linecolor\":\"white\",\"minorgridcolor\":\"white\",\"startlinecolor\":\"#2a3f5f\"},\"type\":\"carpet\"}],\"choropleth\":[{\"colorbar\":{\"outlinewidth\":0,\"ticks\":\"\"},\"type\":\"choropleth\"}],\"contour\":[{\"colorbar\":{\"outlinewidth\":0,\"ticks\":\"\"},\"colorscale\":[[0.0,\"#0d0887\"],[0.1111111111111111,\"#46039f\"],[0.2222222222222222,\"#7201a8\"],[0.3333333333333333,\"#9c179e\"],[0.4444444444444444,\"#bd3786\"],[0.5555555555555556,\"#d8576b\"],[0.6666666666666666,\"#ed7953\"],[0.7777777777777778,\"#fb9f3a\"],[0.8888888888888888,\"#fdca26\"],[1.0,\"#f0f921\"]],\"type\":\"contour\"}],\"contourcarpet\":[{\"colorbar\":{\"outlinewidth\":0,\"ticks\":\"\"},\"type\":\"contourcarpet\"}],\"heatmap\":[{\"colorbar\":{\"outlinewidth\":0,\"ticks\":\"\"},\"colorscale\":[[0.0,\"#0d0887\"],[0.1111111111111111,\"#46039f\"],[0.2222222222222222,\"#7201a8\"],[0.3333333333333333,\"#9c179e\"],[0.4444444444444444,\"#bd3786\"],[0.5555555555555556,\"#d8576b\"],[0.6666666666666666,\"#ed7953\"],[0.7777777777777778,\"#fb9f3a\"],[0.8888888888888888,\"#fdca26\"],[1.0,\"#f0f921\"]],\"type\":\"heatmap\"}],\"heatmapgl\":[{\"colorbar\":{\"outlinewidth\":0,\"ticks\":\"\"},\"colorscale\":[[0.0,\"#0d0887\"],[0.1111111111111111,\"#46039f\"],[0.2222222222222222,\"#7201a8\"],[0.3333333333333333,\"#9c179e\"],[0.4444444444444444,\"#bd3786\"],[0.5555555555555556,\"#d8576b\"],[0.6666666666666666,\"#ed7953\"],[0.7777777777777778,\"#fb9f3a\"],[0.8888888888888888,\"#fdca26\"],[1.0,\"#f0f921\"]],\"type\":\"heatmapgl\"}],\"histogram\":[{\"marker\":{\"pattern\":{\"fillmode\":\"overlay\",\"size\":10,\"solidity\":0.2}},\"type\":\"histogram\"}],\"histogram2d\":[{\"colorbar\":{\"outlinewidth\":0,\"ticks\":\"\"},\"colorscale\":[[0.0,\"#0d0887\"],[0.1111111111111111,\"#46039f\"],[0.2222222222222222,\"#7201a8\"],[0.3333333333333333,\"#9c179e\"],[0.4444444444444444,\"#bd3786\"],[0.5555555555555556,\"#d8576b\"],[0.6666666666666666,\"#ed7953\"],[0.7777777777777778,\"#fb9f3a\"],[0.8888888888888888,\"#fdca26\"],[1.0,\"#f0f921\"]],\"type\":\"histogram2d\"}],\"histogram2dcontour\":[{\"colorbar\":{\"outlinewidth\":0,\"ticks\":\"\"},\"colorscale\":[[0.0,\"#0d0887\"],[0.1111111111111111,\"#46039f\"],[0.2222222222222222,\"#7201a8\"],[0.3333333333333333,\"#9c179e\"],[0.4444444444444444,\"#bd3786\"],[0.5555555555555556,\"#d8576b\"],[0.6666666666666666,\"#ed7953\"],[0.7777777777777778,\"#fb9f3a\"],[0.8888888888888888,\"#fdca26\"],[1.0,\"#f0f921\"]],\"type\":\"histogram2dcontour\"}],\"mesh3d\":[{\"colorbar\":{\"outlinewidth\":0,\"ticks\":\"\"},\"type\":\"mesh3d\"}],\"parcoords\":[{\"line\":{\"colorbar\":{\"outlinewidth\":0,\"ticks\":\"\"}},\"type\":\"parcoords\"}],\"pie\":[{\"automargin\":true,\"type\":\"pie\"}],\"scatter\":[{\"marker\":{\"colorbar\":{\"outlinewidth\":0,\"ticks\":\"\"}},\"type\":\"scatter\"}],\"scatter3d\":[{\"line\":{\"colorbar\":{\"outlinewidth\":0,\"ticks\":\"\"}},\"marker\":{\"colorbar\":{\"outlinewidth\":0,\"ticks\":\"\"}},\"type\":\"scatter3d\"}],\"scattercarpet\":[{\"marker\":{\"colorbar\":{\"outlinewidth\":0,\"ticks\":\"\"}},\"type\":\"scattercarpet\"}],\"scattergeo\":[{\"marker\":{\"colorbar\":{\"outlinewidth\":0,\"ticks\":\"\"}},\"type\":\"scattergeo\"}],\"scattergl\":[{\"marker\":{\"colorbar\":{\"outlinewidth\":0,\"ticks\":\"\"}},\"type\":\"scattergl\"}],\"scattermapbox\":[{\"marker\":{\"colorbar\":{\"outlinewidth\":0,\"ticks\":\"\"}},\"type\":\"scattermapbox\"}],\"scatterpolar\":[{\"marker\":{\"colorbar\":{\"outlinewidth\":0,\"ticks\":\"\"}},\"type\":\"scatterpolar\"}],\"scatterpolargl\":[{\"marker\":{\"colorbar\":{\"outlinewidth\":0,\"ticks\":\"\"}},\"type\":\"scatterpolargl\"}],\"scatterternary\":[{\"marker\":{\"colorbar\":{\"outlinewidth\":0,\"ticks\":\"\"}},\"type\":\"scatterternary\"}],\"surface\":[{\"colorbar\":{\"outlinewidth\":0,\"ticks\":\"\"},\"colorscale\":[[0.0,\"#0d0887\"],[0.1111111111111111,\"#46039f\"],[0.2222222222222222,\"#7201a8\"],[0.3333333333333333,\"#9c179e\"],[0.4444444444444444,\"#bd3786\"],[0.5555555555555556,\"#d8576b\"],[0.6666666666666666,\"#ed7953\"],[0.7777777777777778,\"#fb9f3a\"],[0.8888888888888888,\"#fdca26\"],[1.0,\"#f0f921\"]],\"type\":\"surface\"}],\"table\":[{\"cells\":{\"fill\":{\"color\":\"#EBF0F8\"},\"line\":{\"color\":\"white\"}},\"header\":{\"fill\":{\"color\":\"#C8D4E3\"},\"line\":{\"color\":\"white\"}},\"type\":\"table\"}]},\"layout\":{\"annotationdefaults\":{\"arrowcolor\":\"#2a3f5f\",\"arrowhead\":0,\"arrowwidth\":1},\"autotypenumbers\":\"strict\",\"coloraxis\":{\"colorbar\":{\"outlinewidth\":0,\"ticks\":\"\"}},\"colorscale\":{\"diverging\":[[0,\"#8e0152\"],[0.1,\"#c51b7d\"],[0.2,\"#de77ae\"],[0.3,\"#f1b6da\"],[0.4,\"#fde0ef\"],[0.5,\"#f7f7f7\"],[0.6,\"#e6f5d0\"],[0.7,\"#b8e186\"],[0.8,\"#7fbc41\"],[0.9,\"#4d9221\"],[1,\"#276419\"]],\"sequential\":[[0.0,\"#0d0887\"],[0.1111111111111111,\"#46039f\"],[0.2222222222222222,\"#7201a8\"],[0.3333333333333333,\"#9c179e\"],[0.4444444444444444,\"#bd3786\"],[0.5555555555555556,\"#d8576b\"],[0.6666666666666666,\"#ed7953\"],[0.7777777777777778,\"#fb9f3a\"],[0.8888888888888888,\"#fdca26\"],[1.0,\"#f0f921\"]],\"sequentialminus\":[[0.0,\"#0d0887\"],[0.1111111111111111,\"#46039f\"],[0.2222222222222222,\"#7201a8\"],[0.3333333333333333,\"#9c179e\"],[0.4444444444444444,\"#bd3786\"],[0.5555555555555556,\"#d8576b\"],[0.6666666666666666,\"#ed7953\"],[0.7777777777777778,\"#fb9f3a\"],[0.8888888888888888,\"#fdca26\"],[1.0,\"#f0f921\"]]},\"colorway\":[\"#636efa\",\"#EF553B\",\"#00cc96\",\"#ab63fa\",\"#FFA15A\",\"#19d3f3\",\"#FF6692\",\"#B6E880\",\"#FF97FF\",\"#FECB52\"],\"font\":{\"color\":\"#2a3f5f\"},\"geo\":{\"bgcolor\":\"white\",\"lakecolor\":\"white\",\"landcolor\":\"#E5ECF6\",\"showlakes\":true,\"showland\":true,\"subunitcolor\":\"white\"},\"hoverlabel\":{\"align\":\"left\"},\"hovermode\":\"closest\",\"mapbox\":{\"style\":\"light\"},\"paper_bgcolor\":\"white\",\"plot_bgcolor\":\"#E5ECF6\",\"polar\":{\"angularaxis\":{\"gridcolor\":\"white\",\"linecolor\":\"white\",\"ticks\":\"\"},\"bgcolor\":\"#E5ECF6\",\"radialaxis\":{\"gridcolor\":\"white\",\"linecolor\":\"white\",\"ticks\":\"\"}},\"scene\":{\"xaxis\":{\"backgroundcolor\":\"#E5ECF6\",\"gridcolor\":\"white\",\"gridwidth\":2,\"linecolor\":\"white\",\"showbackground\":true,\"ticks\":\"\",\"zerolinecolor\":\"white\"},\"yaxis\":{\"backgroundcolor\":\"#E5ECF6\",\"gridcolor\":\"white\",\"gridwidth\":2,\"linecolor\":\"white\",\"showbackground\":true,\"ticks\":\"\",\"zerolinecolor\":\"white\"},\"zaxis\":{\"backgroundcolor\":\"#E5ECF6\",\"gridcolor\":\"white\",\"gridwidth\":2,\"linecolor\":\"white\",\"showbackground\":true,\"ticks\":\"\",\"zerolinecolor\":\"white\"}},\"shapedefaults\":{\"line\":{\"color\":\"#2a3f5f\"}},\"ternary\":{\"aaxis\":{\"gridcolor\":\"white\",\"linecolor\":\"white\",\"ticks\":\"\"},\"baxis\":{\"gridcolor\":\"white\",\"linecolor\":\"white\",\"ticks\":\"\"},\"bgcolor\":\"#E5ECF6\",\"caxis\":{\"gridcolor\":\"white\",\"linecolor\":\"white\",\"ticks\":\"\"}},\"title\":{\"x\":0.05},\"xaxis\":{\"automargin\":true,\"gridcolor\":\"white\",\"linecolor\":\"white\",\"ticks\":\"\",\"title\":{\"standoff\":15},\"zerolinecolor\":\"white\",\"zerolinewidth\":2},\"yaxis\":{\"automargin\":true,\"gridcolor\":\"white\",\"linecolor\":\"white\",\"ticks\":\"\",\"title\":{\"standoff\":15},\"zerolinecolor\":\"white\",\"zerolinewidth\":2}}}},                        {\"responsive\": true}                    ).then(function(){\n",
       "                            \n",
       "var gd = document.getElementById('840fd5cd-a17f-4f10-b1cf-f43cb4230bfc');\n",
       "var x = new MutationObserver(function (mutations, observer) {{\n",
       "        var display = window.getComputedStyle(gd).display;\n",
       "        if (!display || display === 'none') {{\n",
       "            console.log([gd, 'removed!']);\n",
       "            Plotly.purge(gd);\n",
       "            observer.disconnect();\n",
       "        }}\n",
       "}});\n",
       "\n",
       "// Listen for the removal of the full notebook cells\n",
       "var notebookContainer = gd.closest('#notebook-container');\n",
       "if (notebookContainer) {{\n",
       "    x.observe(notebookContainer, {childList: true});\n",
       "}}\n",
       "\n",
       "// Listen for the clearing of the current output cell\n",
       "var outputEl = gd.closest('.output');\n",
       "if (outputEl) {{\n",
       "    x.observe(outputEl, {childList: true});\n",
       "}}\n",
       "\n",
       "                        })                };                });            </script>        </div>"
      ]
     },
     "metadata": {},
     "output_type": "display_data"
    }
   ],
   "source": [
    "# Create the layout of the chart\n",
    "title = '<b>Tree-Covered %Change</b><br><sup>2018 vs 2001</sup>'\n",
    "layout1 = go.Layout(title = {'text' : title, \n",
    "                            'x':0.5, 'xanchor': 'center'}, \n",
    "                   font = {\"color\" : 'black'},\n",
    "                   width=980, height=600, plot_bgcolor=\"white\", paper_bgcolor=\"white\",\n",
    "                   geo=dict(showframe=False, showcoastlines=False, projection_type='equirectangular'\n",
    "                           )\n",
    "                  )\n",
    "\n",
    "# Create the figure\n",
    "fig1 = go.Figure(layout = layout1)\n",
    "\n",
    "# Create the Choropleth map tracing\n",
    "trace1 = go.Choropleth(\n",
    "    locations = cover['Area Code (ISO3)'],\n",
    "    z = cover['%change'],\n",
    "    text = cover['Area'],\n",
    "    colorscale = 'RdYlGn',\n",
    "    autocolorscale=False,\n",
    "    reversescale=False,\n",
    "    marker_line_color='#2E2E2E',\n",
    "    marker_line_width=0.5,\n",
    "    colorbar_tickprefix = '%',\n",
    "    colorbar_title = '%change',\n",
    ")\n",
    "\n",
    "fig1.add_trace(trace1)\n",
    "\n",
    "fig1.show()"
   ]
  },
  {
   "cell_type": "code",
   "execution_count": 12,
   "metadata": {},
   "outputs": [
    {
     "data": {
      "application/vnd.plotly.v1+json": {
       "config": {
        "plotlyServerURL": "https://plot.ly"
       },
       "data": [
        {
         "autocolorscale": false,
         "colorbar": {
          "tickprefix": "%",
          "title": {
           "text": "%change"
          }
         },
         "colorscale": [
          [
           0,
           "rgb(165,0,38)"
          ],
          [
           0.1,
           "rgb(215,48,39)"
          ],
          [
           0.2,
           "rgb(244,109,67)"
          ],
          [
           0.3,
           "rgb(253,174,97)"
          ],
          [
           0.4,
           "rgb(254,224,139)"
          ],
          [
           0.5,
           "rgb(255,255,191)"
          ],
          [
           0.6,
           "rgb(217,239,139)"
          ],
          [
           0.7,
           "rgb(166,217,106)"
          ],
          [
           0.8,
           "rgb(102,189,99)"
          ],
          [
           0.9,
           "rgb(26,152,80)"
          ],
          [
           1,
           "rgb(0,104,55)"
          ]
         ],
         "locations": [
          "AFG",
          "ALB",
          "DZA",
          "AGO",
          "ARG",
          "ARM",
          "AUS",
          "AUT",
          "AZE",
          "BHS",
          "BGD",
          "BLR",
          "BLZ",
          "BEN",
          "BTN",
          "BOL",
          "BIH",
          "BWA",
          "BRA",
          "BRN",
          "BGR",
          "BFA",
          "BDI",
          "KHM",
          "CMR",
          "CAN",
          "CAF",
          "TCD",
          "CHL",
          "CHN",
          "TWN",
          "41",
          "COL",
          "COM",
          "COG",
          "CRI",
          "HRV",
          "CUB",
          "CYP",
          "CZE",
          "CIV",
          "PRK",
          "COD",
          "DNK",
          "DOM",
          "ECU",
          "SLV",
          "ERI",
          "SWZ",
          "ETH",
          "FLK",
          "FJI",
          "FIN",
          "FRA",
          "GUF",
          "GAB",
          "GMB",
          "GEO",
          "DEU",
          "GHA",
          "GRC",
          "GTM",
          "GIN",
          "GNB",
          "GUY",
          "HTI",
          "HND",
          "HUN",
          "IND",
          "IDN",
          "IRN",
          "IRQ",
          "ISR",
          "ITA",
          "JAM",
          "JPN",
          "JOR",
          "KAZ",
          "KEN",
          "KGZ",
          "LAO",
          "LVA",
          "LSO",
          "LBR",
          "LBY",
          "LTU",
          "MDG",
          "MWI",
          "MYS",
          "MLI",
          "MRT",
          "MEX",
          "MNG",
          "MAR",
          "MOZ",
          "MMR",
          "NAM",
          "NPL",
          "NZL",
          "NIC",
          "NER",
          "NGA",
          "MKD",
          "PAK",
          "PSE",
          "PAN",
          "PNG",
          "PRY",
          "PER",
          "PHL",
          "POL",
          "PRT",
          "KOR",
          "MDA",
          "ROU",
          "RUS",
          "RWA",
          "SAU",
          "SEN",
          "SLE",
          "SVK",
          "SVN",
          "SOM",
          "ZAF",
          "ESP",
          "LKA",
          "SUR",
          "CHE",
          "SYR",
          "THA",
          "TLS",
          "TGO",
          "TTO",
          "TUR",
          "TKM",
          "UGA",
          "UKR",
          "GBR",
          "TZA",
          "USA",
          "URY",
          "UZB",
          "VEN",
          "VNM",
          "ZMB",
          "ZWE"
         ],
         "marker": {
          "line": {
           "color": "#2E2E2E",
           "width": 0.5
          }
         },
         "reversescale": true,
         "text": [
          "Afghanistan",
          "Albania",
          "Algeria",
          "Angola",
          "Argentina",
          "Armenia",
          "Australia",
          "Austria",
          "Azerbaijan",
          "Bahamas",
          "Bangladesh",
          "Belarus",
          "Belize",
          "Benin",
          "Bhutan",
          "Bolivia (Plurinational State of)",
          "Bosnia and Herzegovina",
          "Botswana",
          "Brazil",
          "Brunei Darussalam",
          "Bulgaria",
          "Burkina Faso",
          "Burundi",
          "Cambodia",
          "Cameroon",
          "Canada",
          "Central African Republic",
          "Chad",
          "Chile",
          "China",
          "China, Taiwan Province of",
          "China, mainland",
          "Colombia",
          "Comoros",
          "Congo",
          "Costa Rica",
          "Croatia",
          "Cuba",
          "Cyprus",
          "Czechia",
          "Côte d'Ivoire",
          "Democratic People's Republic of Korea",
          "Democratic Republic of the Congo",
          "Denmark",
          "Dominican Republic",
          "Ecuador",
          "El Salvador",
          "Eritrea",
          "Eswatini",
          "Ethiopia",
          "Falkland Islands (Malvinas)",
          "Fiji",
          "Finland",
          "France",
          "French Guyana",
          "Gabon",
          "Gambia",
          "Georgia",
          "Germany",
          "Ghana",
          "Greece",
          "Guatemala",
          "Guinea",
          "Guinea-Bissau",
          "Guyana",
          "Haiti",
          "Honduras",
          "Hungary",
          "India",
          "Indonesia",
          "Iran (Islamic Republic of)",
          "Iraq",
          "Israel",
          "Italy",
          "Jamaica",
          "Japan",
          "Jordan",
          "Kazakhstan",
          "Kenya",
          "Kyrgyzstan",
          "Lao People's Democratic Republic",
          "Latvia",
          "Lesotho",
          "Liberia",
          "Libya",
          "Lithuania",
          "Madagascar",
          "Malawi",
          "Malaysia",
          "Mali",
          "Mauritania",
          "Mexico",
          "Mongolia",
          "Morocco",
          "Mozambique",
          "Myanmar",
          "Namibia",
          "Nepal",
          "New Zealand",
          "Nicaragua",
          "Niger",
          "Nigeria",
          "North Macedonia",
          "Pakistan",
          "Palestine",
          "Panama",
          "Papua New Guinea",
          "Paraguay",
          "Peru",
          "Philippines",
          "Poland",
          "Portugal",
          "Republic of Korea",
          "Republic of Moldova",
          "Romania",
          "Russian Federation",
          "Rwanda",
          "Saudi Arabia",
          "Senegal",
          "Sierra Leone",
          "Slovakia",
          "Slovenia",
          "Somalia",
          "South Africa",
          "Spain",
          "Sri Lanka",
          "Suriname",
          "Switzerland",
          "Syrian Arab Republic",
          "Thailand",
          "Timor-Leste",
          "Togo",
          "Trinidad and Tobago",
          "Turkey",
          "Turkmenistan",
          "Uganda",
          "Ukraine",
          "United Kingdom of Great Britain and Northern Ireland",
          "United Republic of Tanzania",
          "United States of America",
          "Uruguay",
          "Uzbekistan",
          "Venezuela (Bolivarian Republic of)",
          "Viet Nam",
          "Zambia",
          "Zimbabwe"
         ],
         "type": "choropleth",
         "z": [
          -9.494417941550443,
          -23.788994988780836,
          -97.23403861373626,
          0.20937854048860738,
          -57.05754636118887,
          32.32823992014826,
          -44.93857983245705,
          333.294002149279,
          21.054626628317028,
          -65.37214568807266,
          -72.86670094651504,
          190.1985074125602,
          34.600308179499336,
          -30.697096949014174,
          -52.1900234729611,
          -14.791995709189507,
          -92.11537394344124,
          -64.98685225516985,
          -44.85702854210841,
          -100,
          -93.81545511580964,
          -50.34602579448002,
          89.70616995352837,
          -3.756326045646035,
          -58.462747932062165,
          692.4016461022313,
          -14.140161530516426,
          0.44937428161452864,
          131.27953334775995,
          3.683084982039865,
          -100,
          3.613990480574778,
          0.8186460918830983,
          72.72783125693974,
          253.77090397050802,
          -1.597173600066891,
          -94.4454588883636,
          -44.384187192512606,
          -100,
          -59.996647609425146,
          -55.04943260797104,
          -1.6027566704465896,
          36.19141854640375,
          0.0067465526506930076,
          -70.69888039653524,
          -10.478254076854268,
          193.49000448541778,
          -98.91308463115944,
          -14.266565774169985,
          -21.309147375813346,
          -100,
          158.61556985706514,
          159.27130032277296,
          -90.58813260220579,
          35.847867890919034,
          115.01180565672323,
          -23.7712057430683,
          -62.04989512697329,
          3003.27964592317,
          -20.617924620023985,
          23.242181193219963,
          34.20049082521753,
          -19.42830613193809,
          -36.04696260024694,
          138.38939536677788,
          290.469950882952,
          480.1883408183236,
          -100,
          275.6634886377974,
          298.9724877491315,
          148.27396182449814,
          270.830203282449,
          -96.77413945267404,
          -70.77026679597562,
          28.5724395591483,
          116.81853632813397,
          -100,
          -44.87485629938149,
          -46.2733230736794,
          -72.18258517141992,
          116.0869275755108,
          -29.45400841209714,
          -90.81205774930946,
          1310.1184419339836,
          -100,
          -34.77727347558306,
          -24.9418222884555,
          45.18088180690544,
          173.35372568651115,
          -39.14091051358357,
          -95.66107734444806,
          28.774401544793456,
          -89.22072430353982,
          -88.23137988010737,
          7.8668037169186675,
          46.91564884523746,
          -45.027075126563616,
          9.835524146489542,
          -100,
          370.00818887170664,
          -9.758794826500687,
          -50.130903161977635,
          -55.49656309168501,
          69.56484993954119,
          -100,
          -46.159336098938006,
          430.93298758879064,
          -39.570393489880246,
          678.3834344099292,
          46.32900747250683,
          30.256517178421642,
          -57.87465243844474,
          -93.10294647053229,
          70.4324708573067,
          129.08258284883223,
          55.194883727382035,
          176.91849354931114,
          -80.65717628843181,
          -39.492939117216295,
          29.21903107796749,
          149.9830693637525,
          350.027650561957,
          -72.60048815761222,
          -26.16487185109065,
          -84.9912890365181,
          91.82934495290715,
          -20.400267133483162,
          -100,
          -69.14245287361052,
          -14.916117686274289,
          -17.22868038809867,
          -16.28773626369209,
          -72.54952025809773,
          -60.28703618866235,
          38.598274359883966,
          -34.22343199008288,
          160.45192711348514,
          148.172397255311,
          -1.393056161361403,
          221.43047598898056,
          114.73216991189904,
          -41.34561427605625,
          18.08179242151174,
          4.122301831013504,
          16.155623784862023,
          -11.88217034176913
         ]
        }
       ],
       "layout": {
        "font": {
         "color": "black"
        },
        "geo": {
         "projection": {
          "type": "equirectangular"
         },
         "showcoastlines": false,
         "showframe": false
        },
        "height": 600,
        "paper_bgcolor": "white",
        "plot_bgcolor": "white",
        "template": {
         "data": {
          "bar": [
           {
            "error_x": {
             "color": "#2a3f5f"
            },
            "error_y": {
             "color": "#2a3f5f"
            },
            "marker": {
             "line": {
              "color": "#E5ECF6",
              "width": 0.5
             },
             "pattern": {
              "fillmode": "overlay",
              "size": 10,
              "solidity": 0.2
             }
            },
            "type": "bar"
           }
          ],
          "barpolar": [
           {
            "marker": {
             "line": {
              "color": "#E5ECF6",
              "width": 0.5
             },
             "pattern": {
              "fillmode": "overlay",
              "size": 10,
              "solidity": 0.2
             }
            },
            "type": "barpolar"
           }
          ],
          "carpet": [
           {
            "aaxis": {
             "endlinecolor": "#2a3f5f",
             "gridcolor": "white",
             "linecolor": "white",
             "minorgridcolor": "white",
             "startlinecolor": "#2a3f5f"
            },
            "baxis": {
             "endlinecolor": "#2a3f5f",
             "gridcolor": "white",
             "linecolor": "white",
             "minorgridcolor": "white",
             "startlinecolor": "#2a3f5f"
            },
            "type": "carpet"
           }
          ],
          "choropleth": [
           {
            "colorbar": {
             "outlinewidth": 0,
             "ticks": ""
            },
            "type": "choropleth"
           }
          ],
          "contour": [
           {
            "colorbar": {
             "outlinewidth": 0,
             "ticks": ""
            },
            "colorscale": [
             [
              0,
              "#0d0887"
             ],
             [
              0.1111111111111111,
              "#46039f"
             ],
             [
              0.2222222222222222,
              "#7201a8"
             ],
             [
              0.3333333333333333,
              "#9c179e"
             ],
             [
              0.4444444444444444,
              "#bd3786"
             ],
             [
              0.5555555555555556,
              "#d8576b"
             ],
             [
              0.6666666666666666,
              "#ed7953"
             ],
             [
              0.7777777777777778,
              "#fb9f3a"
             ],
             [
              0.8888888888888888,
              "#fdca26"
             ],
             [
              1,
              "#f0f921"
             ]
            ],
            "type": "contour"
           }
          ],
          "contourcarpet": [
           {
            "colorbar": {
             "outlinewidth": 0,
             "ticks": ""
            },
            "type": "contourcarpet"
           }
          ],
          "heatmap": [
           {
            "colorbar": {
             "outlinewidth": 0,
             "ticks": ""
            },
            "colorscale": [
             [
              0,
              "#0d0887"
             ],
             [
              0.1111111111111111,
              "#46039f"
             ],
             [
              0.2222222222222222,
              "#7201a8"
             ],
             [
              0.3333333333333333,
              "#9c179e"
             ],
             [
              0.4444444444444444,
              "#bd3786"
             ],
             [
              0.5555555555555556,
              "#d8576b"
             ],
             [
              0.6666666666666666,
              "#ed7953"
             ],
             [
              0.7777777777777778,
              "#fb9f3a"
             ],
             [
              0.8888888888888888,
              "#fdca26"
             ],
             [
              1,
              "#f0f921"
             ]
            ],
            "type": "heatmap"
           }
          ],
          "heatmapgl": [
           {
            "colorbar": {
             "outlinewidth": 0,
             "ticks": ""
            },
            "colorscale": [
             [
              0,
              "#0d0887"
             ],
             [
              0.1111111111111111,
              "#46039f"
             ],
             [
              0.2222222222222222,
              "#7201a8"
             ],
             [
              0.3333333333333333,
              "#9c179e"
             ],
             [
              0.4444444444444444,
              "#bd3786"
             ],
             [
              0.5555555555555556,
              "#d8576b"
             ],
             [
              0.6666666666666666,
              "#ed7953"
             ],
             [
              0.7777777777777778,
              "#fb9f3a"
             ],
             [
              0.8888888888888888,
              "#fdca26"
             ],
             [
              1,
              "#f0f921"
             ]
            ],
            "type": "heatmapgl"
           }
          ],
          "histogram": [
           {
            "marker": {
             "pattern": {
              "fillmode": "overlay",
              "size": 10,
              "solidity": 0.2
             }
            },
            "type": "histogram"
           }
          ],
          "histogram2d": [
           {
            "colorbar": {
             "outlinewidth": 0,
             "ticks": ""
            },
            "colorscale": [
             [
              0,
              "#0d0887"
             ],
             [
              0.1111111111111111,
              "#46039f"
             ],
             [
              0.2222222222222222,
              "#7201a8"
             ],
             [
              0.3333333333333333,
              "#9c179e"
             ],
             [
              0.4444444444444444,
              "#bd3786"
             ],
             [
              0.5555555555555556,
              "#d8576b"
             ],
             [
              0.6666666666666666,
              "#ed7953"
             ],
             [
              0.7777777777777778,
              "#fb9f3a"
             ],
             [
              0.8888888888888888,
              "#fdca26"
             ],
             [
              1,
              "#f0f921"
             ]
            ],
            "type": "histogram2d"
           }
          ],
          "histogram2dcontour": [
           {
            "colorbar": {
             "outlinewidth": 0,
             "ticks": ""
            },
            "colorscale": [
             [
              0,
              "#0d0887"
             ],
             [
              0.1111111111111111,
              "#46039f"
             ],
             [
              0.2222222222222222,
              "#7201a8"
             ],
             [
              0.3333333333333333,
              "#9c179e"
             ],
             [
              0.4444444444444444,
              "#bd3786"
             ],
             [
              0.5555555555555556,
              "#d8576b"
             ],
             [
              0.6666666666666666,
              "#ed7953"
             ],
             [
              0.7777777777777778,
              "#fb9f3a"
             ],
             [
              0.8888888888888888,
              "#fdca26"
             ],
             [
              1,
              "#f0f921"
             ]
            ],
            "type": "histogram2dcontour"
           }
          ],
          "mesh3d": [
           {
            "colorbar": {
             "outlinewidth": 0,
             "ticks": ""
            },
            "type": "mesh3d"
           }
          ],
          "parcoords": [
           {
            "line": {
             "colorbar": {
              "outlinewidth": 0,
              "ticks": ""
             }
            },
            "type": "parcoords"
           }
          ],
          "pie": [
           {
            "automargin": true,
            "type": "pie"
           }
          ],
          "scatter": [
           {
            "marker": {
             "colorbar": {
              "outlinewidth": 0,
              "ticks": ""
             }
            },
            "type": "scatter"
           }
          ],
          "scatter3d": [
           {
            "line": {
             "colorbar": {
              "outlinewidth": 0,
              "ticks": ""
             }
            },
            "marker": {
             "colorbar": {
              "outlinewidth": 0,
              "ticks": ""
             }
            },
            "type": "scatter3d"
           }
          ],
          "scattercarpet": [
           {
            "marker": {
             "colorbar": {
              "outlinewidth": 0,
              "ticks": ""
             }
            },
            "type": "scattercarpet"
           }
          ],
          "scattergeo": [
           {
            "marker": {
             "colorbar": {
              "outlinewidth": 0,
              "ticks": ""
             }
            },
            "type": "scattergeo"
           }
          ],
          "scattergl": [
           {
            "marker": {
             "colorbar": {
              "outlinewidth": 0,
              "ticks": ""
             }
            },
            "type": "scattergl"
           }
          ],
          "scattermapbox": [
           {
            "marker": {
             "colorbar": {
              "outlinewidth": 0,
              "ticks": ""
             }
            },
            "type": "scattermapbox"
           }
          ],
          "scatterpolar": [
           {
            "marker": {
             "colorbar": {
              "outlinewidth": 0,
              "ticks": ""
             }
            },
            "type": "scatterpolar"
           }
          ],
          "scatterpolargl": [
           {
            "marker": {
             "colorbar": {
              "outlinewidth": 0,
              "ticks": ""
             }
            },
            "type": "scatterpolargl"
           }
          ],
          "scatterternary": [
           {
            "marker": {
             "colorbar": {
              "outlinewidth": 0,
              "ticks": ""
             }
            },
            "type": "scatterternary"
           }
          ],
          "surface": [
           {
            "colorbar": {
             "outlinewidth": 0,
             "ticks": ""
            },
            "colorscale": [
             [
              0,
              "#0d0887"
             ],
             [
              0.1111111111111111,
              "#46039f"
             ],
             [
              0.2222222222222222,
              "#7201a8"
             ],
             [
              0.3333333333333333,
              "#9c179e"
             ],
             [
              0.4444444444444444,
              "#bd3786"
             ],
             [
              0.5555555555555556,
              "#d8576b"
             ],
             [
              0.6666666666666666,
              "#ed7953"
             ],
             [
              0.7777777777777778,
              "#fb9f3a"
             ],
             [
              0.8888888888888888,
              "#fdca26"
             ],
             [
              1,
              "#f0f921"
             ]
            ],
            "type": "surface"
           }
          ],
          "table": [
           {
            "cells": {
             "fill": {
              "color": "#EBF0F8"
             },
             "line": {
              "color": "white"
             }
            },
            "header": {
             "fill": {
              "color": "#C8D4E3"
             },
             "line": {
              "color": "white"
             }
            },
            "type": "table"
           }
          ]
         },
         "layout": {
          "annotationdefaults": {
           "arrowcolor": "#2a3f5f",
           "arrowhead": 0,
           "arrowwidth": 1
          },
          "autotypenumbers": "strict",
          "coloraxis": {
           "colorbar": {
            "outlinewidth": 0,
            "ticks": ""
           }
          },
          "colorscale": {
           "diverging": [
            [
             0,
             "#8e0152"
            ],
            [
             0.1,
             "#c51b7d"
            ],
            [
             0.2,
             "#de77ae"
            ],
            [
             0.3,
             "#f1b6da"
            ],
            [
             0.4,
             "#fde0ef"
            ],
            [
             0.5,
             "#f7f7f7"
            ],
            [
             0.6,
             "#e6f5d0"
            ],
            [
             0.7,
             "#b8e186"
            ],
            [
             0.8,
             "#7fbc41"
            ],
            [
             0.9,
             "#4d9221"
            ],
            [
             1,
             "#276419"
            ]
           ],
           "sequential": [
            [
             0,
             "#0d0887"
            ],
            [
             0.1111111111111111,
             "#46039f"
            ],
            [
             0.2222222222222222,
             "#7201a8"
            ],
            [
             0.3333333333333333,
             "#9c179e"
            ],
            [
             0.4444444444444444,
             "#bd3786"
            ],
            [
             0.5555555555555556,
             "#d8576b"
            ],
            [
             0.6666666666666666,
             "#ed7953"
            ],
            [
             0.7777777777777778,
             "#fb9f3a"
            ],
            [
             0.8888888888888888,
             "#fdca26"
            ],
            [
             1,
             "#f0f921"
            ]
           ],
           "sequentialminus": [
            [
             0,
             "#0d0887"
            ],
            [
             0.1111111111111111,
             "#46039f"
            ],
            [
             0.2222222222222222,
             "#7201a8"
            ],
            [
             0.3333333333333333,
             "#9c179e"
            ],
            [
             0.4444444444444444,
             "#bd3786"
            ],
            [
             0.5555555555555556,
             "#d8576b"
            ],
            [
             0.6666666666666666,
             "#ed7953"
            ],
            [
             0.7777777777777778,
             "#fb9f3a"
            ],
            [
             0.8888888888888888,
             "#fdca26"
            ],
            [
             1,
             "#f0f921"
            ]
           ]
          },
          "colorway": [
           "#636efa",
           "#EF553B",
           "#00cc96",
           "#ab63fa",
           "#FFA15A",
           "#19d3f3",
           "#FF6692",
           "#B6E880",
           "#FF97FF",
           "#FECB52"
          ],
          "font": {
           "color": "#2a3f5f"
          },
          "geo": {
           "bgcolor": "white",
           "lakecolor": "white",
           "landcolor": "#E5ECF6",
           "showlakes": true,
           "showland": true,
           "subunitcolor": "white"
          },
          "hoverlabel": {
           "align": "left"
          },
          "hovermode": "closest",
          "mapbox": {
           "style": "light"
          },
          "paper_bgcolor": "white",
          "plot_bgcolor": "#E5ECF6",
          "polar": {
           "angularaxis": {
            "gridcolor": "white",
            "linecolor": "white",
            "ticks": ""
           },
           "bgcolor": "#E5ECF6",
           "radialaxis": {
            "gridcolor": "white",
            "linecolor": "white",
            "ticks": ""
           }
          },
          "scene": {
           "xaxis": {
            "backgroundcolor": "#E5ECF6",
            "gridcolor": "white",
            "gridwidth": 2,
            "linecolor": "white",
            "showbackground": true,
            "ticks": "",
            "zerolinecolor": "white"
           },
           "yaxis": {
            "backgroundcolor": "#E5ECF6",
            "gridcolor": "white",
            "gridwidth": 2,
            "linecolor": "white",
            "showbackground": true,
            "ticks": "",
            "zerolinecolor": "white"
           },
           "zaxis": {
            "backgroundcolor": "#E5ECF6",
            "gridcolor": "white",
            "gridwidth": 2,
            "linecolor": "white",
            "showbackground": true,
            "ticks": "",
            "zerolinecolor": "white"
           }
          },
          "shapedefaults": {
           "line": {
            "color": "#2a3f5f"
           }
          },
          "ternary": {
           "aaxis": {
            "gridcolor": "white",
            "linecolor": "white",
            "ticks": ""
           },
           "baxis": {
            "gridcolor": "white",
            "linecolor": "white",
            "ticks": ""
           },
           "bgcolor": "#E5ECF6",
           "caxis": {
            "gridcolor": "white",
            "linecolor": "white",
            "ticks": ""
           }
          },
          "title": {
           "x": 0.05
          },
          "xaxis": {
           "automargin": true,
           "gridcolor": "white",
           "linecolor": "white",
           "ticks": "",
           "title": {
            "standoff": 15
           },
           "zerolinecolor": "white",
           "zerolinewidth": 2
          },
          "yaxis": {
           "automargin": true,
           "gridcolor": "white",
           "linecolor": "white",
           "ticks": "",
           "title": {
            "standoff": 15
           },
           "zerolinecolor": "white",
           "zerolinewidth": 2
          }
         }
        },
        "title": {
         "text": "<b>Savanna & Forest Fires</b> %Change<br><sup>2018 vs 2001</sup>",
         "x": 0.5,
         "xanchor": "center"
        },
        "width": 980
       }
      },
      "image/png": "[encoded data removed]",
      "text/html": [
       "<div>                            <div id=\"bb7424cd-9eb4-4131-8436-e0fb7adf8f93\" class=\"plotly-graph-div\" style=\"height:600px; width:980px;\"></div>            <script type=\"text/javascript\">                require([\"plotly\"], function(Plotly) {                    window.PLOTLYENV=window.PLOTLYENV || {};                                    if (document.getElementById(\"bb7424cd-9eb4-4131-8436-e0fb7adf8f93\")) {                    Plotly.newPlot(                        \"bb7424cd-9eb4-4131-8436-e0fb7adf8f93\",                        [{\"autocolorscale\":false,\"colorbar\":{\"tickprefix\":\"%\",\"title\":{\"text\":\"%change\"}},\"colorscale\":[[0.0,\"rgb(165,0,38)\"],[0.1,\"rgb(215,48,39)\"],[0.2,\"rgb(244,109,67)\"],[0.3,\"rgb(253,174,97)\"],[0.4,\"rgb(254,224,139)\"],[0.5,\"rgb(255,255,191)\"],[0.6,\"rgb(217,239,139)\"],[0.7,\"rgb(166,217,106)\"],[0.8,\"rgb(102,189,99)\"],[0.9,\"rgb(26,152,80)\"],[1.0,\"rgb(0,104,55)\"]],\"locations\":[\"AFG\",\"ALB\",\"DZA\",\"AGO\",\"ARG\",\"ARM\",\"AUS\",\"AUT\",\"AZE\",\"BHS\",\"BGD\",\"BLR\",\"BLZ\",\"BEN\",\"BTN\",\"BOL\",\"BIH\",\"BWA\",\"BRA\",\"BRN\",\"BGR\",\"BFA\",\"BDI\",\"KHM\",\"CMR\",\"CAN\",\"CAF\",\"TCD\",\"CHL\",\"CHN\",\"TWN\",\"41\",\"COL\",\"COM\",\"COG\",\"CRI\",\"HRV\",\"CUB\",\"CYP\",\"CZE\",\"CIV\",\"PRK\",\"COD\",\"DNK\",\"DOM\",\"ECU\",\"SLV\",\"ERI\",\"SWZ\",\"ETH\",\"FLK\",\"FJI\",\"FIN\",\"FRA\",\"GUF\",\"GAB\",\"GMB\",\"GEO\",\"DEU\",\"GHA\",\"GRC\",\"GTM\",\"GIN\",\"GNB\",\"GUY\",\"HTI\",\"HND\",\"HUN\",\"IND\",\"IDN\",\"IRN\",\"IRQ\",\"ISR\",\"ITA\",\"JAM\",\"JPN\",\"JOR\",\"KAZ\",\"KEN\",\"KGZ\",\"LAO\",\"LVA\",\"LSO\",\"LBR\",\"LBY\",\"LTU\",\"MDG\",\"MWI\",\"MYS\",\"MLI\",\"MRT\",\"MEX\",\"MNG\",\"MAR\",\"MOZ\",\"MMR\",\"NAM\",\"NPL\",\"NZL\",\"NIC\",\"NER\",\"NGA\",\"MKD\",\"PAK\",\"PSE\",\"PAN\",\"PNG\",\"PRY\",\"PER\",\"PHL\",\"POL\",\"PRT\",\"KOR\",\"MDA\",\"ROU\",\"RUS\",\"RWA\",\"SAU\",\"SEN\",\"SLE\",\"SVK\",\"SVN\",\"SOM\",\"ZAF\",\"ESP\",\"LKA\",\"SUR\",\"CHE\",\"SYR\",\"THA\",\"TLS\",\"TGO\",\"TTO\",\"TUR\",\"TKM\",\"UGA\",\"UKR\",\"GBR\",\"TZA\",\"USA\",\"URY\",\"UZB\",\"VEN\",\"VNM\",\"ZMB\",\"ZWE\"],\"marker\":{\"line\":{\"color\":\"#2E2E2E\",\"width\":0.5}},\"reversescale\":true,\"text\":[\"Afghanistan\",\"Albania\",\"Algeria\",\"Angola\",\"Argentina\",\"Armenia\",\"Australia\",\"Austria\",\"Azerbaijan\",\"Bahamas\",\"Bangladesh\",\"Belarus\",\"Belize\",\"Benin\",\"Bhutan\",\"Bolivia (Plurinational State of)\",\"Bosnia and Herzegovina\",\"Botswana\",\"Brazil\",\"Brunei Darussalam\",\"Bulgaria\",\"Burkina Faso\",\"Burundi\",\"Cambodia\",\"Cameroon\",\"Canada\",\"Central African Republic\",\"Chad\",\"Chile\",\"China\",\"China, Taiwan Province of\",\"China, mainland\",\"Colombia\",\"Comoros\",\"Congo\",\"Costa Rica\",\"Croatia\",\"Cuba\",\"Cyprus\",\"Czechia\",\"C\\u00f4te d'Ivoire\",\"Democratic People's Republic of Korea\",\"Democratic Republic of the Congo\",\"Denmark\",\"Dominican Republic\",\"Ecuador\",\"El Salvador\",\"Eritrea\",\"Eswatini\",\"Ethiopia\",\"Falkland Islands (Malvinas)\",\"Fiji\",\"Finland\",\"France\",\"French Guyana\",\"Gabon\",\"Gambia\",\"Georgia\",\"Germany\",\"Ghana\",\"Greece\",\"Guatemala\",\"Guinea\",\"Guinea-Bissau\",\"Guyana\",\"Haiti\",\"Honduras\",\"Hungary\",\"India\",\"Indonesia\",\"Iran (Islamic Republic of)\",\"Iraq\",\"Israel\",\"Italy\",\"Jamaica\",\"Japan\",\"Jordan\",\"Kazakhstan\",\"Kenya\",\"Kyrgyzstan\",\"Lao People's Democratic Republic\",\"Latvia\",\"Lesotho\",\"Liberia\",\"Libya\",\"Lithuania\",\"Madagascar\",\"Malawi\",\"Malaysia\",\"Mali\",\"Mauritania\",\"Mexico\",\"Mongolia\",\"Morocco\",\"Mozambique\",\"Myanmar\",\"Namibia\",\"Nepal\",\"New Zealand\",\"Nicaragua\",\"Niger\",\"Nigeria\",\"North Macedonia\",\"Pakistan\",\"Palestine\",\"Panama\",\"Papua New Guinea\",\"Paraguay\",\"Peru\",\"Philippines\",\"Poland\",\"Portugal\",\"Republic of Korea\",\"Republic of Moldova\",\"Romania\",\"Russian Federation\",\"Rwanda\",\"Saudi Arabia\",\"Senegal\",\"Sierra Leone\",\"Slovakia\",\"Slovenia\",\"Somalia\",\"South Africa\",\"Spain\",\"Sri Lanka\",\"Suriname\",\"Switzerland\",\"Syrian Arab Republic\",\"Thailand\",\"Timor-Leste\",\"Togo\",\"Trinidad and Tobago\",\"Turkey\",\"Turkmenistan\",\"Uganda\",\"Ukraine\",\"United Kingdom of Great Britain and Northern Ireland\",\"United Republic of Tanzania\",\"United States of America\",\"Uruguay\",\"Uzbekistan\",\"Venezuela (Bolivarian Republic of)\",\"Viet Nam\",\"Zambia\",\"Zimbabwe\"],\"z\":[-9.494417941550443,-23.788994988780836,-97.23403861373626,0.20937854048860738,-57.05754636118887,32.32823992014826,-44.93857983245705,333.294002149279,21.054626628317028,-65.37214568807266,-72.86670094651504,190.1985074125602,34.600308179499336,-30.697096949014174,-52.1900234729611,-14.791995709189507,-92.11537394344124,-64.98685225516985,-44.85702854210841,-100.0,-93.81545511580964,-50.34602579448002,89.70616995352837,-3.756326045646035,-58.462747932062165,692.4016461022313,-14.140161530516426,0.44937428161452864,131.27953334775995,3.683084982039865,-100.0,3.613990480574778,0.8186460918830983,72.72783125693974,253.77090397050802,-1.597173600066891,-94.4454588883636,-44.384187192512606,-100.0,-59.996647609425146,-55.04943260797104,-1.6027566704465896,36.19141854640375,0.0067465526506930076,-70.69888039653524,-10.478254076854268,193.49000448541778,-98.91308463115944,-14.266565774169985,-21.309147375813346,-100.0,158.61556985706514,159.27130032277296,-90.58813260220579,35.847867890919034,115.01180565672323,-23.7712057430683,-62.04989512697329,3003.27964592317,-20.617924620023985,23.242181193219963,34.20049082521753,-19.42830613193809,-36.04696260024694,138.38939536677788,290.469950882952,480.1883408183236,-100.0,275.6634886377974,298.9724877491315,148.27396182449814,270.830203282449,-96.77413945267404,-70.77026679597562,28.5724395591483,116.81853632813397,-100.0,-44.87485629938149,-46.2733230736794,-72.18258517141992,116.0869275755108,-29.45400841209714,-90.81205774930946,1310.1184419339836,-100.0,-34.77727347558306,-24.9418222884555,45.18088180690544,173.35372568651115,-39.14091051358357,-95.66107734444806,28.774401544793456,-89.22072430353982,-88.23137988010737,7.8668037169186675,46.91564884523746,-45.027075126563616,9.835524146489542,-100.0,370.00818887170664,-9.758794826500687,-50.130903161977635,-55.49656309168501,69.56484993954119,-100.0,-46.159336098938006,430.93298758879064,-39.570393489880246,678.3834344099292,46.32900747250683,30.256517178421642,-57.87465243844474,-93.10294647053229,70.4324708573067,129.08258284883223,55.194883727382035,176.91849354931114,-80.65717628843181,-39.492939117216295,29.21903107796749,149.9830693637525,350.027650561957,-72.60048815761222,-26.16487185109065,-84.9912890365181,91.82934495290715,-20.400267133483162,-100.0,-69.14245287361052,-14.916117686274289,-17.22868038809867,-16.28773626369209,-72.54952025809773,-60.28703618866235,38.598274359883966,-34.22343199008288,160.45192711348514,148.172397255311,-1.393056161361403,221.43047598898056,114.73216991189904,-41.34561427605625,18.08179242151174,4.122301831013504,16.155623784862023,-11.88217034176913],\"type\":\"choropleth\"}],                        {\"font\":{\"color\":\"black\"},\"geo\":{\"projection\":{\"type\":\"equirectangular\"},\"showcoastlines\":false,\"showframe\":false},\"height\":600,\"paper_bgcolor\":\"white\",\"plot_bgcolor\":\"white\",\"title\":{\"text\":\"<b>Savanna & Forest Fires</b> %Change<br><sup>2018 vs 2001</sup>\",\"x\":0.5,\"xanchor\":\"center\"},\"width\":980,\"template\":{\"data\":{\"bar\":[{\"error_x\":{\"color\":\"#2a3f5f\"},\"error_y\":{\"color\":\"#2a3f5f\"},\"marker\":{\"line\":{\"color\":\"#E5ECF6\",\"width\":0.5},\"pattern\":{\"fillmode\":\"overlay\",\"size\":10,\"solidity\":0.2}},\"type\":\"bar\"}],\"barpolar\":[{\"marker\":{\"line\":{\"color\":\"#E5ECF6\",\"width\":0.5},\"pattern\":{\"fillmode\":\"overlay\",\"size\":10,\"solidity\":0.2}},\"type\":\"barpolar\"}],\"carpet\":[{\"aaxis\":{\"endlinecolor\":\"#2a3f5f\",\"gridcolor\":\"white\",\"linecolor\":\"white\",\"minorgridcolor\":\"white\",\"startlinecolor\":\"#2a3f5f\"},\"baxis\":{\"endlinecolor\":\"#2a3f5f\",\"gridcolor\":\"white\",\"linecolor\":\"white\",\"minorgridcolor\":\"white\",\"startlinecolor\":\"#2a3f5f\"},\"type\":\"carpet\"}],\"choropleth\":[{\"colorbar\":{\"outlinewidth\":0,\"ticks\":\"\"},\"type\":\"choropleth\"}],\"contour\":[{\"colorbar\":{\"outlinewidth\":0,\"ticks\":\"\"},\"colorscale\":[[0.0,\"#0d0887\"],[0.1111111111111111,\"#46039f\"],[0.2222222222222222,\"#7201a8\"],[0.3333333333333333,\"#9c179e\"],[0.4444444444444444,\"#bd3786\"],[0.5555555555555556,\"#d8576b\"],[0.6666666666666666,\"#ed7953\"],[0.7777777777777778,\"#fb9f3a\"],[0.8888888888888888,\"#fdca26\"],[1.0,\"#f0f921\"]],\"type\":\"contour\"}],\"contourcarpet\":[{\"colorbar\":{\"outlinewidth\":0,\"ticks\":\"\"},\"type\":\"contourcarpet\"}],\"heatmap\":[{\"colorbar\":{\"outlinewidth\":0,\"ticks\":\"\"},\"colorscale\":[[0.0,\"#0d0887\"],[0.1111111111111111,\"#46039f\"],[0.2222222222222222,\"#7201a8\"],[0.3333333333333333,\"#9c179e\"],[0.4444444444444444,\"#bd3786\"],[0.5555555555555556,\"#d8576b\"],[0.6666666666666666,\"#ed7953\"],[0.7777777777777778,\"#fb9f3a\"],[0.8888888888888888,\"#fdca26\"],[1.0,\"#f0f921\"]],\"type\":\"heatmap\"}],\"heatmapgl\":[{\"colorbar\":{\"outlinewidth\":0,\"ticks\":\"\"},\"colorscale\":[[0.0,\"#0d0887\"],[0.1111111111111111,\"#46039f\"],[0.2222222222222222,\"#7201a8\"],[0.3333333333333333,\"#9c179e\"],[0.4444444444444444,\"#bd3786\"],[0.5555555555555556,\"#d8576b\"],[0.6666666666666666,\"#ed7953\"],[0.7777777777777778,\"#fb9f3a\"],[0.8888888888888888,\"#fdca26\"],[1.0,\"#f0f921\"]],\"type\":\"heatmapgl\"}],\"histogram\":[{\"marker\":{\"pattern\":{\"fillmode\":\"overlay\",\"size\":10,\"solidity\":0.2}},\"type\":\"histogram\"}],\"histogram2d\":[{\"colorbar\":{\"outlinewidth\":0,\"ticks\":\"\"},\"colorscale\":[[0.0,\"#0d0887\"],[0.1111111111111111,\"#46039f\"],[0.2222222222222222,\"#7201a8\"],[0.3333333333333333,\"#9c179e\"],[0.4444444444444444,\"#bd3786\"],[0.5555555555555556,\"#d8576b\"],[0.6666666666666666,\"#ed7953\"],[0.7777777777777778,\"#fb9f3a\"],[0.8888888888888888,\"#fdca26\"],[1.0,\"#f0f921\"]],\"type\":\"histogram2d\"}],\"histogram2dcontour\":[{\"colorbar\":{\"outlinewidth\":0,\"ticks\":\"\"},\"colorscale\":[[0.0,\"#0d0887\"],[0.1111111111111111,\"#46039f\"],[0.2222222222222222,\"#7201a8\"],[0.3333333333333333,\"#9c179e\"],[0.4444444444444444,\"#bd3786\"],[0.5555555555555556,\"#d8576b\"],[0.6666666666666666,\"#ed7953\"],[0.7777777777777778,\"#fb9f3a\"],[0.8888888888888888,\"#fdca26\"],[1.0,\"#f0f921\"]],\"type\":\"histogram2dcontour\"}],\"mesh3d\":[{\"colorbar\":{\"outlinewidth\":0,\"ticks\":\"\"},\"type\":\"mesh3d\"}],\"parcoords\":[{\"line\":{\"colorbar\":{\"outlinewidth\":0,\"ticks\":\"\"}},\"type\":\"parcoords\"}],\"pie\":[{\"automargin\":true,\"type\":\"pie\"}],\"scatter\":[{\"marker\":{\"colorbar\":{\"outlinewidth\":0,\"ticks\":\"\"}},\"type\":\"scatter\"}],\"scatter3d\":[{\"line\":{\"colorbar\":{\"outlinewidth\":0,\"ticks\":\"\"}},\"marker\":{\"colorbar\":{\"outlinewidth\":0,\"ticks\":\"\"}},\"type\":\"scatter3d\"}],\"scattercarpet\":[{\"marker\":{\"colorbar\":{\"outlinewidth\":0,\"ticks\":\"\"}},\"type\":\"scattercarpet\"}],\"scattergeo\":[{\"marker\":{\"colorbar\":{\"outlinewidth\":0,\"ticks\":\"\"}},\"type\":\"scattergeo\"}],\"scattergl\":[{\"marker\":{\"colorbar\":{\"outlinewidth\":0,\"ticks\":\"\"}},\"type\":\"scattergl\"}],\"scattermapbox\":[{\"marker\":{\"colorbar\":{\"outlinewidth\":0,\"ticks\":\"\"}},\"type\":\"scattermapbox\"}],\"scatterpolar\":[{\"marker\":{\"colorbar\":{\"outlinewidth\":0,\"ticks\":\"\"}},\"type\":\"scatterpolar\"}],\"scatterpolargl\":[{\"marker\":{\"colorbar\":{\"outlinewidth\":0,\"ticks\":\"\"}},\"type\":\"scatterpolargl\"}],\"scatterternary\":[{\"marker\":{\"colorbar\":{\"outlinewidth\":0,\"ticks\":\"\"}},\"type\":\"scatterternary\"}],\"surface\":[{\"colorbar\":{\"outlinewidth\":0,\"ticks\":\"\"},\"colorscale\":[[0.0,\"#0d0887\"],[0.1111111111111111,\"#46039f\"],[0.2222222222222222,\"#7201a8\"],[0.3333333333333333,\"#9c179e\"],[0.4444444444444444,\"#bd3786\"],[0.5555555555555556,\"#d8576b\"],[0.6666666666666666,\"#ed7953\"],[0.7777777777777778,\"#fb9f3a\"],[0.8888888888888888,\"#fdca26\"],[1.0,\"#f0f921\"]],\"type\":\"surface\"}],\"table\":[{\"cells\":{\"fill\":{\"color\":\"#EBF0F8\"},\"line\":{\"color\":\"white\"}},\"header\":{\"fill\":{\"color\":\"#C8D4E3\"},\"line\":{\"color\":\"white\"}},\"type\":\"table\"}]},\"layout\":{\"annotationdefaults\":{\"arrowcolor\":\"#2a3f5f\",\"arrowhead\":0,\"arrowwidth\":1},\"autotypenumbers\":\"strict\",\"coloraxis\":{\"colorbar\":{\"outlinewidth\":0,\"ticks\":\"\"}},\"colorscale\":{\"diverging\":[[0,\"#8e0152\"],[0.1,\"#c51b7d\"],[0.2,\"#de77ae\"],[0.3,\"#f1b6da\"],[0.4,\"#fde0ef\"],[0.5,\"#f7f7f7\"],[0.6,\"#e6f5d0\"],[0.7,\"#b8e186\"],[0.8,\"#7fbc41\"],[0.9,\"#4d9221\"],[1,\"#276419\"]],\"sequential\":[[0.0,\"#0d0887\"],[0.1111111111111111,\"#46039f\"],[0.2222222222222222,\"#7201a8\"],[0.3333333333333333,\"#9c179e\"],[0.4444444444444444,\"#bd3786\"],[0.5555555555555556,\"#d8576b\"],[0.6666666666666666,\"#ed7953\"],[0.7777777777777778,\"#fb9f3a\"],[0.8888888888888888,\"#fdca26\"],[1.0,\"#f0f921\"]],\"sequentialminus\":[[0.0,\"#0d0887\"],[0.1111111111111111,\"#46039f\"],[0.2222222222222222,\"#7201a8\"],[0.3333333333333333,\"#9c179e\"],[0.4444444444444444,\"#bd3786\"],[0.5555555555555556,\"#d8576b\"],[0.6666666666666666,\"#ed7953\"],[0.7777777777777778,\"#fb9f3a\"],[0.8888888888888888,\"#fdca26\"],[1.0,\"#f0f921\"]]},\"colorway\":[\"#636efa\",\"#EF553B\",\"#00cc96\",\"#ab63fa\",\"#FFA15A\",\"#19d3f3\",\"#FF6692\",\"#B6E880\",\"#FF97FF\",\"#FECB52\"],\"font\":{\"color\":\"#2a3f5f\"},\"geo\":{\"bgcolor\":\"white\",\"lakecolor\":\"white\",\"landcolor\":\"#E5ECF6\",\"showlakes\":true,\"showland\":true,\"subunitcolor\":\"white\"},\"hoverlabel\":{\"align\":\"left\"},\"hovermode\":\"closest\",\"mapbox\":{\"style\":\"light\"},\"paper_bgcolor\":\"white\",\"plot_bgcolor\":\"#E5ECF6\",\"polar\":{\"angularaxis\":{\"gridcolor\":\"white\",\"linecolor\":\"white\",\"ticks\":\"\"},\"bgcolor\":\"#E5ECF6\",\"radialaxis\":{\"gridcolor\":\"white\",\"linecolor\":\"white\",\"ticks\":\"\"}},\"scene\":{\"xaxis\":{\"backgroundcolor\":\"#E5ECF6\",\"gridcolor\":\"white\",\"gridwidth\":2,\"linecolor\":\"white\",\"showbackground\":true,\"ticks\":\"\",\"zerolinecolor\":\"white\"},\"yaxis\":{\"backgroundcolor\":\"#E5ECF6\",\"gridcolor\":\"white\",\"gridwidth\":2,\"linecolor\":\"white\",\"showbackground\":true,\"ticks\":\"\",\"zerolinecolor\":\"white\"},\"zaxis\":{\"backgroundcolor\":\"#E5ECF6\",\"gridcolor\":\"white\",\"gridwidth\":2,\"linecolor\":\"white\",\"showbackground\":true,\"ticks\":\"\",\"zerolinecolor\":\"white\"}},\"shapedefaults\":{\"line\":{\"color\":\"#2a3f5f\"}},\"ternary\":{\"aaxis\":{\"gridcolor\":\"white\",\"linecolor\":\"white\",\"ticks\":\"\"},\"baxis\":{\"gridcolor\":\"white\",\"linecolor\":\"white\",\"ticks\":\"\"},\"bgcolor\":\"#E5ECF6\",\"caxis\":{\"gridcolor\":\"white\",\"linecolor\":\"white\",\"ticks\":\"\"}},\"title\":{\"x\":0.05},\"xaxis\":{\"automargin\":true,\"gridcolor\":\"white\",\"linecolor\":\"white\",\"ticks\":\"\",\"title\":{\"standoff\":15},\"zerolinecolor\":\"white\",\"zerolinewidth\":2},\"yaxis\":{\"automargin\":true,\"gridcolor\":\"white\",\"linecolor\":\"white\",\"ticks\":\"\",\"title\":{\"standoff\":15},\"zerolinecolor\":\"white\",\"zerolinewidth\":2}}}},                        {\"responsive\": true}                    ).then(function(){\n",
       "                            \n",
       "var gd = document.getElementById('bb7424cd-9eb4-4131-8436-e0fb7adf8f93');\n",
       "var x = new MutationObserver(function (mutations, observer) {{\n",
       "        var display = window.getComputedStyle(gd).display;\n",
       "        if (!display || display === 'none') {{\n",
       "            console.log([gd, 'removed!']);\n",
       "            Plotly.purge(gd);\n",
       "            observer.disconnect();\n",
       "        }}\n",
       "}});\n",
       "\n",
       "// Listen for the removal of the full notebook cells\n",
       "var notebookContainer = gd.closest('#notebook-container');\n",
       "if (notebookContainer) {{\n",
       "    x.observe(notebookContainer, {childList: true});\n",
       "}}\n",
       "\n",
       "// Listen for the clearing of the current output cell\n",
       "var outputEl = gd.closest('.output');\n",
       "if (outputEl) {{\n",
       "    x.observe(outputEl, {childList: true});\n",
       "}}\n",
       "\n",
       "                        })                };                });            </script>        </div>"
      ]
     },
     "metadata": {},
     "output_type": "display_data"
    }
   ],
   "source": [
    "# Create the layout of the chart\n",
    "title = '<b>Savanna & Forest Fires</b> %Change<br><sup>2018 vs 2001</sup>'\n",
    "layout2 = go.Layout(title = {'text' : title, \n",
    "                            'x':0.5, 'xanchor': 'center'}, \n",
    "                   font = {\"color\" : 'black'},\n",
    "                   width=980, height=600, plot_bgcolor=\"white\", paper_bgcolor=\"white\",\n",
    "                   geo=dict(showframe=False, showcoastlines=False, projection_type='equirectangular'\n",
    "                           )\n",
    "                  )\n",
    "\n",
    "# Create the figure\n",
    "fig2 = go.Figure(layout = layout2)\n",
    "\n",
    "\n",
    "# Create the Choropleth map tracing\n",
    "trace2 = go.Choropleth(\n",
    "    locations = fires['Area Code (ISO3)'],\n",
    "    z = fires['%change'],\n",
    "    text = fires['Area'],\n",
    "    colorscale = 'RdYlGn',\n",
    "    autocolorscale=False,\n",
    "    reversescale=True,\n",
    "    marker_line_color='#2E2E2E',\n",
    "    marker_line_width=0.5,\n",
    "    colorbar_tickprefix = '%',\n",
    "    colorbar_title = '%change',\n",
    ")\n",
    "\n",
    "fig2.add_trace(trace2)\n",
    "fig2.show()"
   ]
  },
  {
   "cell_type": "code",
   "execution_count": 13,
   "metadata": {},
   "outputs": [
    {
     "data": {
      "application/vnd.plotly.v1+json": {
       "config": {
        "plotlyServerURL": "https://plot.ly"
       },
       "data": [
        {
         "autocolorscale": false,
         "colorbar": {
          "tickprefix": "%",
          "title": {
           "text": "%change"
          }
         },
         "colorscale": [
          [
           0,
           "rgb(165,0,38)"
          ],
          [
           0.6455362953045214,
           "rgb(165,0,38)"
          ],
          [
           0.9355520536917311,
           "rgb(230,180,0)"
          ],
          [
           0.9677760268458656,
           "rgb(255,255,255)"
          ],
          [
           1,
           "rgb(0,38,167)"
          ]
         ],
         "locations": [
          "AFG",
          "ALB",
          "DZA",
          "AGO",
          "ARG",
          "ARM",
          "AUS",
          "AUT",
          "AZE",
          "BHS",
          "BGD",
          "BLR",
          "BLZ",
          "BEN",
          "BTN",
          "BOL",
          "BIH",
          "BWA",
          "BRA",
          "BRN",
          "BGR",
          "BFA",
          "BDI",
          "KHM",
          "CMR",
          "CAN",
          "CAF",
          "TCD",
          "CHL",
          "CHN",
          "TWN",
          "41",
          "COL",
          "COM",
          "COG",
          "CRI",
          "HRV",
          "CUB",
          "CYP",
          "CZE",
          "CIV",
          "PRK",
          "COD",
          "DNK",
          "DOM",
          "ECU",
          "SLV",
          "ERI",
          "SWZ",
          "ETH",
          "FLK",
          "FJI",
          "FIN",
          "FRA",
          "GUF",
          "GAB",
          "GMB",
          "GEO",
          "DEU",
          "GHA",
          "GRC",
          "GTM",
          "GIN",
          "GNB",
          "GUY",
          "HTI",
          "HND",
          "HUN",
          "IND",
          "IDN",
          "IRN",
          "IRQ",
          "ISR",
          "ITA",
          "JAM",
          "JPN",
          "JOR",
          "KAZ",
          "KEN",
          "KGZ",
          "LAO",
          "LVA",
          "LSO",
          "LBR",
          "LBY",
          "LTU",
          "MDG",
          "MWI",
          "MYS",
          "MLI",
          "MRT",
          "MEX",
          "MNG",
          "MAR",
          "MOZ",
          "MMR",
          "NAM",
          "NPL",
          "NZL",
          "NIC",
          "NER",
          "NGA",
          "MKD",
          "PAK",
          "PSE",
          "PAN",
          "PNG",
          "PRY",
          "PER",
          "PHL",
          "POL",
          "PRT",
          "KOR",
          "MDA",
          "ROU",
          "RUS",
          "RWA",
          "SAU",
          "SEN",
          "SLE",
          "SVK",
          "SVN",
          "SOM",
          "ZAF",
          "ESP",
          "LKA",
          "SUR",
          "CHE",
          "SYR",
          "THA",
          "TLS",
          "TGO",
          "TTO",
          "TUR",
          "TKM",
          "UGA",
          "UKR",
          "GBR",
          "TZA",
          "USA",
          "URY",
          "UZB",
          "VEN",
          "VNM",
          "ZMB",
          "ZWE"
         ],
         "marker": {
          "line": {
           "color": "#2E2E2E",
           "width": 0.5
          }
         },
         "reversescale": true,
         "text": [
          "Afghanistan",
          "Albania",
          "Algeria",
          "Angola",
          "Argentina",
          "Armenia",
          "Australia",
          "Austria",
          "Azerbaijan",
          "Bahamas",
          "Bangladesh",
          "Belarus",
          "Belize",
          "Benin",
          "Bhutan",
          "Bolivia (Plurinational State of)",
          "Bosnia and Herzegovina",
          "Botswana",
          "Brazil",
          "Brunei Darussalam",
          "Bulgaria",
          "Burkina Faso",
          "Burundi",
          "Cambodia",
          "Cameroon",
          "Canada",
          "Central African Republic",
          "Chad",
          "Chile",
          "China",
          "China, Taiwan Province of",
          "China, mainland",
          "Colombia",
          "Comoros",
          "Congo",
          "Costa Rica",
          "Croatia",
          "Cuba",
          "Cyprus",
          "Czechia",
          "Côte d'Ivoire",
          "Democratic People's Republic of Korea",
          "Democratic Republic of the Congo",
          "Denmark",
          "Dominican Republic",
          "Ecuador",
          "El Salvador",
          "Eritrea",
          "Eswatini",
          "Ethiopia",
          "Falkland Islands (Malvinas)",
          "Fiji",
          "Finland",
          "France",
          "French Guyana",
          "Gabon",
          "Gambia",
          "Georgia",
          "Germany",
          "Ghana",
          "Greece",
          "Guatemala",
          "Guinea",
          "Guinea-Bissau",
          "Guyana",
          "Haiti",
          "Honduras",
          "Hungary",
          "India",
          "Indonesia",
          "Iran (Islamic Republic of)",
          "Iraq",
          "Israel",
          "Italy",
          "Jamaica",
          "Japan",
          "Jordan",
          "Kazakhstan",
          "Kenya",
          "Kyrgyzstan",
          "Lao People's Democratic Republic",
          "Latvia",
          "Lesotho",
          "Liberia",
          "Libya",
          "Lithuania",
          "Madagascar",
          "Malawi",
          "Malaysia",
          "Mali",
          "Mauritania",
          "Mexico",
          "Mongolia",
          "Morocco",
          "Mozambique",
          "Myanmar",
          "Namibia",
          "Nepal",
          "New Zealand",
          "Nicaragua",
          "Niger",
          "Nigeria",
          "North Macedonia",
          "Pakistan",
          "Palestine",
          "Panama",
          "Papua New Guinea",
          "Paraguay",
          "Peru",
          "Philippines",
          "Poland",
          "Portugal",
          "Republic of Korea",
          "Republic of Moldova",
          "Romania",
          "Russian Federation",
          "Rwanda",
          "Saudi Arabia",
          "Senegal",
          "Sierra Leone",
          "Slovakia",
          "Slovenia",
          "Somalia",
          "South Africa",
          "Spain",
          "Sri Lanka",
          "Suriname",
          "Switzerland",
          "Syrian Arab Republic",
          "Thailand",
          "Timor-Leste",
          "Togo",
          "Trinidad and Tobago",
          "Turkey",
          "Turkmenistan",
          "Uganda",
          "Ukraine",
          "United Kingdom of Great Britain and Northern Ireland",
          "United Republic of Tanzania",
          "United States of America",
          "Uruguay",
          "Uzbekistan",
          "Venezuela (Bolivarian Republic of)",
          "Viet Nam",
          "Zambia",
          "Zimbabwe"
         ],
         "type": "choropleth",
         "z": [
          -9.494417941550443,
          -23.788994988780836,
          -97.23403861373626,
          0.20937854048860738,
          -57.05754636118887,
          32.32823992014826,
          -44.93857983245705,
          333.294002149279,
          21.054626628317028,
          -65.37214568807266,
          -72.86670094651504,
          190.1985074125602,
          34.600308179499336,
          -30.697096949014174,
          -52.1900234729611,
          -14.791995709189507,
          -92.11537394344124,
          -64.98685225516985,
          -44.85702854210841,
          -100,
          -93.81545511580964,
          -50.34602579448002,
          89.70616995352837,
          -3.756326045646035,
          -58.462747932062165,
          692.4016461022313,
          -14.140161530516426,
          0.44937428161452864,
          131.27953334775995,
          3.683084982039865,
          -100,
          3.613990480574778,
          0.8186460918830983,
          72.72783125693974,
          253.77090397050802,
          -1.597173600066891,
          -94.4454588883636,
          -44.384187192512606,
          -100,
          -59.996647609425146,
          -55.04943260797104,
          -1.6027566704465896,
          36.19141854640375,
          0.0067465526506930076,
          -70.69888039653524,
          -10.478254076854268,
          193.49000448541778,
          -98.91308463115944,
          -14.266565774169985,
          -21.309147375813346,
          -100,
          158.61556985706514,
          159.27130032277296,
          -90.58813260220579,
          35.847867890919034,
          115.01180565672323,
          -23.7712057430683,
          -62.04989512697329,
          3003.27964592317,
          -20.617924620023985,
          23.242181193219963,
          34.20049082521753,
          -19.42830613193809,
          -36.04696260024694,
          138.38939536677788,
          290.469950882952,
          480.1883408183236,
          -100,
          275.6634886377974,
          298.9724877491315,
          148.27396182449814,
          270.830203282449,
          -96.77413945267404,
          -70.77026679597562,
          28.5724395591483,
          116.81853632813397,
          -100,
          -44.87485629938149,
          -46.2733230736794,
          -72.18258517141992,
          116.0869275755108,
          -29.45400841209714,
          -90.81205774930946,
          1310.1184419339836,
          -100,
          -34.77727347558306,
          -24.9418222884555,
          45.18088180690544,
          173.35372568651115,
          -39.14091051358357,
          -95.66107734444806,
          28.774401544793456,
          -89.22072430353982,
          -88.23137988010737,
          7.8668037169186675,
          46.91564884523746,
          -45.027075126563616,
          9.835524146489542,
          -100,
          370.00818887170664,
          -9.758794826500687,
          -50.130903161977635,
          -55.49656309168501,
          69.56484993954119,
          -100,
          -46.159336098938006,
          430.93298758879064,
          -39.570393489880246,
          678.3834344099292,
          46.32900747250683,
          30.256517178421642,
          -57.87465243844474,
          -93.10294647053229,
          70.4324708573067,
          129.08258284883223,
          55.194883727382035,
          176.91849354931114,
          -80.65717628843181,
          -39.492939117216295,
          29.21903107796749,
          149.9830693637525,
          350.027650561957,
          -72.60048815761222,
          -26.16487185109065,
          -84.9912890365181,
          91.82934495290715,
          -20.400267133483162,
          -100,
          -69.14245287361052,
          -14.916117686274289,
          -17.22868038809867,
          -16.28773626369209,
          -72.54952025809773,
          -60.28703618866235,
          38.598274359883966,
          -34.22343199008288,
          160.45192711348514,
          148.172397255311,
          -1.393056161361403,
          221.43047598898056,
          114.73216991189904,
          -41.34561427605625,
          18.08179242151174,
          4.122301831013504,
          16.155623784862023,
          -11.88217034176913
         ]
        }
       ],
       "layout": {
        "font": {
         "color": "black"
        },
        "geo": {
         "center": {
          "lat": 39.186014249538516,
          "lon": 24.26538004657926
         },
         "projection": {
          "rotation": {
           "lon": 24.26538004657926
          },
          "scale": 2.6982050686794024,
          "type": "equirectangular"
         },
         "showcoastlines": false,
         "showframe": false
        },
        "height": 600,
        "paper_bgcolor": "white",
        "plot_bgcolor": "white",
        "template": {
         "data": {
          "bar": [
           {
            "error_x": {
             "color": "#2a3f5f"
            },
            "error_y": {
             "color": "#2a3f5f"
            },
            "marker": {
             "line": {
              "color": "#E5ECF6",
              "width": 0.5
             },
             "pattern": {
              "fillmode": "overlay",
              "size": 10,
              "solidity": 0.2
             }
            },
            "type": "bar"
           }
          ],
          "barpolar": [
           {
            "marker": {
             "line": {
              "color": "#E5ECF6",
              "width": 0.5
             },
             "pattern": {
              "fillmode": "overlay",
              "size": 10,
              "solidity": 0.2
             }
            },
            "type": "barpolar"
           }
          ],
          "carpet": [
           {
            "aaxis": {
             "endlinecolor": "#2a3f5f",
             "gridcolor": "white",
             "linecolor": "white",
             "minorgridcolor": "white",
             "startlinecolor": "#2a3f5f"
            },
            "baxis": {
             "endlinecolor": "#2a3f5f",
             "gridcolor": "white",
             "linecolor": "white",
             "minorgridcolor": "white",
             "startlinecolor": "#2a3f5f"
            },
            "type": "carpet"
           }
          ],
          "choropleth": [
           {
            "colorbar": {
             "outlinewidth": 0,
             "ticks": ""
            },
            "type": "choropleth"
           }
          ],
          "contour": [
           {
            "colorbar": {
             "outlinewidth": 0,
             "ticks": ""
            },
            "colorscale": [
             [
              0,
              "#0d0887"
             ],
             [
              0.1111111111111111,
              "#46039f"
             ],
             [
              0.2222222222222222,
              "#7201a8"
             ],
             [
              0.3333333333333333,
              "#9c179e"
             ],
             [
              0.4444444444444444,
              "#bd3786"
             ],
             [
              0.5555555555555556,
              "#d8576b"
             ],
             [
              0.6666666666666666,
              "#ed7953"
             ],
             [
              0.7777777777777778,
              "#fb9f3a"
             ],
             [
              0.8888888888888888,
              "#fdca26"
             ],
             [
              1,
              "#f0f921"
             ]
            ],
            "type": "contour"
           }
          ],
          "contourcarpet": [
           {
            "colorbar": {
             "outlinewidth": 0,
             "ticks": ""
            },
            "type": "contourcarpet"
           }
          ],
          "heatmap": [
           {
            "colorbar": {
             "outlinewidth": 0,
             "ticks": ""
            },
            "colorscale": [
             [
              0,
              "#0d0887"
             ],
             [
              0.1111111111111111,
              "#46039f"
             ],
             [
              0.2222222222222222,
              "#7201a8"
             ],
             [
              0.3333333333333333,
              "#9c179e"
             ],
             [
              0.4444444444444444,
              "#bd3786"
             ],
             [
              0.5555555555555556,
              "#d8576b"
             ],
             [
              0.6666666666666666,
              "#ed7953"
             ],
             [
              0.7777777777777778,
              "#fb9f3a"
             ],
             [
              0.8888888888888888,
              "#fdca26"
             ],
             [
              1,
              "#f0f921"
             ]
            ],
            "type": "heatmap"
           }
          ],
          "heatmapgl": [
           {
            "colorbar": {
             "outlinewidth": 0,
             "ticks": ""
            },
            "colorscale": [
             [
              0,
              "#0d0887"
             ],
             [
              0.1111111111111111,
              "#46039f"
             ],
             [
              0.2222222222222222,
              "#7201a8"
             ],
             [
              0.3333333333333333,
              "#9c179e"
             ],
             [
              0.4444444444444444,
              "#bd3786"
             ],
             [
              0.5555555555555556,
              "#d8576b"
             ],
             [
              0.6666666666666666,
              "#ed7953"
             ],
             [
              0.7777777777777778,
              "#fb9f3a"
             ],
             [
              0.8888888888888888,
              "#fdca26"
             ],
             [
              1,
              "#f0f921"
             ]
            ],
            "type": "heatmapgl"
           }
          ],
          "histogram": [
           {
            "marker": {
             "pattern": {
              "fillmode": "overlay",
              "size": 10,
              "solidity": 0.2
             }
            },
            "type": "histogram"
           }
          ],
          "histogram2d": [
           {
            "colorbar": {
             "outlinewidth": 0,
             "ticks": ""
            },
            "colorscale": [
             [
              0,
              "#0d0887"
             ],
             [
              0.1111111111111111,
              "#46039f"
             ],
             [
              0.2222222222222222,
              "#7201a8"
             ],
             [
              0.3333333333333333,
              "#9c179e"
             ],
             [
              0.4444444444444444,
              "#bd3786"
             ],
             [
              0.5555555555555556,
              "#d8576b"
             ],
             [
              0.6666666666666666,
              "#ed7953"
             ],
             [
              0.7777777777777778,
              "#fb9f3a"
             ],
             [
              0.8888888888888888,
              "#fdca26"
             ],
             [
              1,
              "#f0f921"
             ]
            ],
            "type": "histogram2d"
           }
          ],
          "histogram2dcontour": [
           {
            "colorbar": {
             "outlinewidth": 0,
             "ticks": ""
            },
            "colorscale": [
             [
              0,
              "#0d0887"
             ],
             [
              0.1111111111111111,
              "#46039f"
             ],
             [
              0.2222222222222222,
              "#7201a8"
             ],
             [
              0.3333333333333333,
              "#9c179e"
             ],
             [
              0.4444444444444444,
              "#bd3786"
             ],
             [
              0.5555555555555556,
              "#d8576b"
             ],
             [
              0.6666666666666666,
              "#ed7953"
             ],
             [
              0.7777777777777778,
              "#fb9f3a"
             ],
             [
              0.8888888888888888,
              "#fdca26"
             ],
             [
              1,
              "#f0f921"
             ]
            ],
            "type": "histogram2dcontour"
           }
          ],
          "mesh3d": [
           {
            "colorbar": {
             "outlinewidth": 0,
             "ticks": ""
            },
            "type": "mesh3d"
           }
          ],
          "parcoords": [
           {
            "line": {
             "colorbar": {
              "outlinewidth": 0,
              "ticks": ""
             }
            },
            "type": "parcoords"
           }
          ],
          "pie": [
           {
            "automargin": true,
            "type": "pie"
           }
          ],
          "scatter": [
           {
            "marker": {
             "colorbar": {
              "outlinewidth": 0,
              "ticks": ""
             }
            },
            "type": "scatter"
           }
          ],
          "scatter3d": [
           {
            "line": {
             "colorbar": {
              "outlinewidth": 0,
              "ticks": ""
             }
            },
            "marker": {
             "colorbar": {
              "outlinewidth": 0,
              "ticks": ""
             }
            },
            "type": "scatter3d"
           }
          ],
          "scattercarpet": [
           {
            "marker": {
             "colorbar": {
              "outlinewidth": 0,
              "ticks": ""
             }
            },
            "type": "scattercarpet"
           }
          ],
          "scattergeo": [
           {
            "marker": {
             "colorbar": {
              "outlinewidth": 0,
              "ticks": ""
             }
            },
            "type": "scattergeo"
           }
          ],
          "scattergl": [
           {
            "marker": {
             "colorbar": {
              "outlinewidth": 0,
              "ticks": ""
             }
            },
            "type": "scattergl"
           }
          ],
          "scattermapbox": [
           {
            "marker": {
             "colorbar": {
              "outlinewidth": 0,
              "ticks": ""
             }
            },
            "type": "scattermapbox"
           }
          ],
          "scatterpolar": [
           {
            "marker": {
             "colorbar": {
              "outlinewidth": 0,
              "ticks": ""
             }
            },
            "type": "scatterpolar"
           }
          ],
          "scatterpolargl": [
           {
            "marker": {
             "colorbar": {
              "outlinewidth": 0,
              "ticks": ""
             }
            },
            "type": "scatterpolargl"
           }
          ],
          "scatterternary": [
           {
            "marker": {
             "colorbar": {
              "outlinewidth": 0,
              "ticks": ""
             }
            },
            "type": "scatterternary"
           }
          ],
          "surface": [
           {
            "colorbar": {
             "outlinewidth": 0,
             "ticks": ""
            },
            "colorscale": [
             [
              0,
              "#0d0887"
             ],
             [
              0.1111111111111111,
              "#46039f"
             ],
             [
              0.2222222222222222,
              "#7201a8"
             ],
             [
              0.3333333333333333,
              "#9c179e"
             ],
             [
              0.4444444444444444,
              "#bd3786"
             ],
             [
              0.5555555555555556,
              "#d8576b"
             ],
             [
              0.6666666666666666,
              "#ed7953"
             ],
             [
              0.7777777777777778,
              "#fb9f3a"
             ],
             [
              0.8888888888888888,
              "#fdca26"
             ],
             [
              1,
              "#f0f921"
             ]
            ],
            "type": "surface"
           }
          ],
          "table": [
           {
            "cells": {
             "fill": {
              "color": "#EBF0F8"
             },
             "line": {
              "color": "white"
             }
            },
            "header": {
             "fill": {
              "color": "#C8D4E3"
             },
             "line": {
              "color": "white"
             }
            },
            "type": "table"
           }
          ]
         },
         "layout": {
          "annotationdefaults": {
           "arrowcolor": "#2a3f5f",
           "arrowhead": 0,
           "arrowwidth": 1
          },
          "autotypenumbers": "strict",
          "coloraxis": {
           "colorbar": {
            "outlinewidth": 0,
            "ticks": ""
           }
          },
          "colorscale": {
           "diverging": [
            [
             0,
             "#8e0152"
            ],
            [
             0.1,
             "#c51b7d"
            ],
            [
             0.2,
             "#de77ae"
            ],
            [
             0.3,
             "#f1b6da"
            ],
            [
             0.4,
             "#fde0ef"
            ],
            [
             0.5,
             "#f7f7f7"
            ],
            [
             0.6,
             "#e6f5d0"
            ],
            [
             0.7,
             "#b8e186"
            ],
            [
             0.8,
             "#7fbc41"
            ],
            [
             0.9,
             "#4d9221"
            ],
            [
             1,
             "#276419"
            ]
           ],
           "sequential": [
            [
             0,
             "#0d0887"
            ],
            [
             0.1111111111111111,
             "#46039f"
            ],
            [
             0.2222222222222222,
             "#7201a8"
            ],
            [
             0.3333333333333333,
             "#9c179e"
            ],
            [
             0.4444444444444444,
             "#bd3786"
            ],
            [
             0.5555555555555556,
             "#d8576b"
            ],
            [
             0.6666666666666666,
             "#ed7953"
            ],
            [
             0.7777777777777778,
             "#fb9f3a"
            ],
            [
             0.8888888888888888,
             "#fdca26"
            ],
            [
             1,
             "#f0f921"
            ]
           ],
           "sequentialminus": [
            [
             0,
             "#0d0887"
            ],
            [
             0.1111111111111111,
             "#46039f"
            ],
            [
             0.2222222222222222,
             "#7201a8"
            ],
            [
             0.3333333333333333,
             "#9c179e"
            ],
            [
             0.4444444444444444,
             "#bd3786"
            ],
            [
             0.5555555555555556,
             "#d8576b"
            ],
            [
             0.6666666666666666,
             "#ed7953"
            ],
            [
             0.7777777777777778,
             "#fb9f3a"
            ],
            [
             0.8888888888888888,
             "#fdca26"
            ],
            [
             1,
             "#f0f921"
            ]
           ]
          },
          "colorway": [
           "#636efa",
           "#EF553B",
           "#00cc96",
           "#ab63fa",
           "#FFA15A",
           "#19d3f3",
           "#FF6692",
           "#B6E880",
           "#FF97FF",
           "#FECB52"
          ],
          "font": {
           "color": "#2a3f5f"
          },
          "geo": {
           "bgcolor": "white",
           "lakecolor": "white",
           "landcolor": "#E5ECF6",
           "showlakes": true,
           "showland": true,
           "subunitcolor": "white"
          },
          "hoverlabel": {
           "align": "left"
          },
          "hovermode": "closest",
          "mapbox": {
           "style": "light"
          },
          "paper_bgcolor": "white",
          "plot_bgcolor": "#E5ECF6",
          "polar": {
           "angularaxis": {
            "gridcolor": "white",
            "linecolor": "white",
            "ticks": ""
           },
           "bgcolor": "#E5ECF6",
           "radialaxis": {
            "gridcolor": "white",
            "linecolor": "white",
            "ticks": ""
           }
          },
          "scene": {
           "xaxis": {
            "backgroundcolor": "#E5ECF6",
            "gridcolor": "white",
            "gridwidth": 2,
            "linecolor": "white",
            "showbackground": true,
            "ticks": "",
            "zerolinecolor": "white"
           },
           "yaxis": {
            "backgroundcolor": "#E5ECF6",
            "gridcolor": "white",
            "gridwidth": 2,
            "linecolor": "white",
            "showbackground": true,
            "ticks": "",
            "zerolinecolor": "white"
           },
           "zaxis": {
            "backgroundcolor": "#E5ECF6",
            "gridcolor": "white",
            "gridwidth": 2,
            "linecolor": "white",
            "showbackground": true,
            "ticks": "",
            "zerolinecolor": "white"
           }
          },
          "shapedefaults": {
           "line": {
            "color": "#2a3f5f"
           }
          },
          "ternary": {
           "aaxis": {
            "gridcolor": "white",
            "linecolor": "white",
            "ticks": ""
           },
           "baxis": {
            "gridcolor": "white",
            "linecolor": "white",
            "ticks": ""
           },
           "bgcolor": "#E5ECF6",
           "caxis": {
            "gridcolor": "white",
            "linecolor": "white",
            "ticks": ""
           }
          },
          "title": {
           "x": 0.05
          },
          "xaxis": {
           "automargin": true,
           "gridcolor": "white",
           "linecolor": "white",
           "ticks": "",
           "title": {
            "standoff": 15
           },
           "zerolinecolor": "white",
           "zerolinewidth": 2
          },
          "yaxis": {
           "automargin": true,
           "gridcolor": "white",
           "linecolor": "white",
           "ticks": "",
           "title": {
            "standoff": 15
           },
           "zerolinecolor": "white",
           "zerolinewidth": 2
          }
         }
        },
        "title": {
         "text": "<b>Savanna & Forest Fires</b> %Change<br><sup>2018 vs 2001</sup>",
         "x": 0.5,
         "xanchor": "center"
        },
        "width": 980
       }
      },
      "image/png": "[encoded data removed]",
      "text/html": [
       "<div>                            <div id=\"12a6ad30-ca46-4291-ae7b-526ed9c22ccf\" class=\"plotly-graph-div\" style=\"height:600px; width:980px;\"></div>            <script type=\"text/javascript\">                require([\"plotly\"], function(Plotly) {                    window.PLOTLYENV=window.PLOTLYENV || {};                                    if (document.getElementById(\"12a6ad30-ca46-4291-ae7b-526ed9c22ccf\")) {                    Plotly.newPlot(                        \"12a6ad30-ca46-4291-ae7b-526ed9c22ccf\",                        [{\"autocolorscale\":false,\"colorbar\":{\"tickprefix\":\"%\",\"title\":{\"text\":\"%change\"}},\"colorscale\":[[0,\"rgb(165,0,38)\"],[0.6455362953045214,\"rgb(165,0,38)\"],[0.9355520536917311,\"rgb(230,180,0)\"],[0.9677760268458656,\"rgb(255,255,255)\"],[1,\"rgb(0,38,167)\"]],\"locations\":[\"AFG\",\"ALB\",\"DZA\",\"AGO\",\"ARG\",\"ARM\",\"AUS\",\"AUT\",\"AZE\",\"BHS\",\"BGD\",\"BLR\",\"BLZ\",\"BEN\",\"BTN\",\"BOL\",\"BIH\",\"BWA\",\"BRA\",\"BRN\",\"BGR\",\"BFA\",\"BDI\",\"KHM\",\"CMR\",\"CAN\",\"CAF\",\"TCD\",\"CHL\",\"CHN\",\"TWN\",\"41\",\"COL\",\"COM\",\"COG\",\"CRI\",\"HRV\",\"CUB\",\"CYP\",\"CZE\",\"CIV\",\"PRK\",\"COD\",\"DNK\",\"DOM\",\"ECU\",\"SLV\",\"ERI\",\"SWZ\",\"ETH\",\"FLK\",\"FJI\",\"FIN\",\"FRA\",\"GUF\",\"GAB\",\"GMB\",\"GEO\",\"DEU\",\"GHA\",\"GRC\",\"GTM\",\"GIN\",\"GNB\",\"GUY\",\"HTI\",\"HND\",\"HUN\",\"IND\",\"IDN\",\"IRN\",\"IRQ\",\"ISR\",\"ITA\",\"JAM\",\"JPN\",\"JOR\",\"KAZ\",\"KEN\",\"KGZ\",\"LAO\",\"LVA\",\"LSO\",\"LBR\",\"LBY\",\"LTU\",\"MDG\",\"MWI\",\"MYS\",\"MLI\",\"MRT\",\"MEX\",\"MNG\",\"MAR\",\"MOZ\",\"MMR\",\"NAM\",\"NPL\",\"NZL\",\"NIC\",\"NER\",\"NGA\",\"MKD\",\"PAK\",\"PSE\",\"PAN\",\"PNG\",\"PRY\",\"PER\",\"PHL\",\"POL\",\"PRT\",\"KOR\",\"MDA\",\"ROU\",\"RUS\",\"RWA\",\"SAU\",\"SEN\",\"SLE\",\"SVK\",\"SVN\",\"SOM\",\"ZAF\",\"ESP\",\"LKA\",\"SUR\",\"CHE\",\"SYR\",\"THA\",\"TLS\",\"TGO\",\"TTO\",\"TUR\",\"TKM\",\"UGA\",\"UKR\",\"GBR\",\"TZA\",\"USA\",\"URY\",\"UZB\",\"VEN\",\"VNM\",\"ZMB\",\"ZWE\"],\"marker\":{\"line\":{\"color\":\"#2E2E2E\",\"width\":0.5}},\"reversescale\":true,\"text\":[\"Afghanistan\",\"Albania\",\"Algeria\",\"Angola\",\"Argentina\",\"Armenia\",\"Australia\",\"Austria\",\"Azerbaijan\",\"Bahamas\",\"Bangladesh\",\"Belarus\",\"Belize\",\"Benin\",\"Bhutan\",\"Bolivia (Plurinational State of)\",\"Bosnia and Herzegovina\",\"Botswana\",\"Brazil\",\"Brunei Darussalam\",\"Bulgaria\",\"Burkina Faso\",\"Burundi\",\"Cambodia\",\"Cameroon\",\"Canada\",\"Central African Republic\",\"Chad\",\"Chile\",\"China\",\"China, Taiwan Province of\",\"China, mainland\",\"Colombia\",\"Comoros\",\"Congo\",\"Costa Rica\",\"Croatia\",\"Cuba\",\"Cyprus\",\"Czechia\",\"C\\u00f4te d'Ivoire\",\"Democratic People's Republic of Korea\",\"Democratic Republic of the Congo\",\"Denmark\",\"Dominican Republic\",\"Ecuador\",\"El Salvador\",\"Eritrea\",\"Eswatini\",\"Ethiopia\",\"Falkland Islands (Malvinas)\",\"Fiji\",\"Finland\",\"France\",\"French Guyana\",\"Gabon\",\"Gambia\",\"Georgia\",\"Germany\",\"Ghana\",\"Greece\",\"Guatemala\",\"Guinea\",\"Guinea-Bissau\",\"Guyana\",\"Haiti\",\"Honduras\",\"Hungary\",\"India\",\"Indonesia\",\"Iran (Islamic Republic of)\",\"Iraq\",\"Israel\",\"Italy\",\"Jamaica\",\"Japan\",\"Jordan\",\"Kazakhstan\",\"Kenya\",\"Kyrgyzstan\",\"Lao People's Democratic Republic\",\"Latvia\",\"Lesotho\",\"Liberia\",\"Libya\",\"Lithuania\",\"Madagascar\",\"Malawi\",\"Malaysia\",\"Mali\",\"Mauritania\",\"Mexico\",\"Mongolia\",\"Morocco\",\"Mozambique\",\"Myanmar\",\"Namibia\",\"Nepal\",\"New Zealand\",\"Nicaragua\",\"Niger\",\"Nigeria\",\"North Macedonia\",\"Pakistan\",\"Palestine\",\"Panama\",\"Papua New Guinea\",\"Paraguay\",\"Peru\",\"Philippines\",\"Poland\",\"Portugal\",\"Republic of Korea\",\"Republic of Moldova\",\"Romania\",\"Russian Federation\",\"Rwanda\",\"Saudi Arabia\",\"Senegal\",\"Sierra Leone\",\"Slovakia\",\"Slovenia\",\"Somalia\",\"South Africa\",\"Spain\",\"Sri Lanka\",\"Suriname\",\"Switzerland\",\"Syrian Arab Republic\",\"Thailand\",\"Timor-Leste\",\"Togo\",\"Trinidad and Tobago\",\"Turkey\",\"Turkmenistan\",\"Uganda\",\"Ukraine\",\"United Kingdom of Great Britain and Northern Ireland\",\"United Republic of Tanzania\",\"United States of America\",\"Uruguay\",\"Uzbekistan\",\"Venezuela (Bolivarian Republic of)\",\"Viet Nam\",\"Zambia\",\"Zimbabwe\"],\"z\":[-9.494417941550443,-23.788994988780836,-97.23403861373626,0.20937854048860738,-57.05754636118887,32.32823992014826,-44.93857983245705,333.294002149279,21.054626628317028,-65.37214568807266,-72.86670094651504,190.1985074125602,34.600308179499336,-30.697096949014174,-52.1900234729611,-14.791995709189507,-92.11537394344124,-64.98685225516985,-44.85702854210841,-100.0,-93.81545511580964,-50.34602579448002,89.70616995352837,-3.756326045646035,-58.462747932062165,692.4016461022313,-14.140161530516426,0.44937428161452864,131.27953334775995,3.683084982039865,-100.0,3.613990480574778,0.8186460918830983,72.72783125693974,253.77090397050802,-1.597173600066891,-94.4454588883636,-44.384187192512606,-100.0,-59.996647609425146,-55.04943260797104,-1.6027566704465896,36.19141854640375,0.0067465526506930076,-70.69888039653524,-10.478254076854268,193.49000448541778,-98.91308463115944,-14.266565774169985,-21.309147375813346,-100.0,158.61556985706514,159.27130032277296,-90.58813260220579,35.847867890919034,115.01180565672323,-23.7712057430683,-62.04989512697329,3003.27964592317,-20.617924620023985,23.242181193219963,34.20049082521753,-19.42830613193809,-36.04696260024694,138.38939536677788,290.469950882952,480.1883408183236,-100.0,275.6634886377974,298.9724877491315,148.27396182449814,270.830203282449,-96.77413945267404,-70.77026679597562,28.5724395591483,116.81853632813397,-100.0,-44.87485629938149,-46.2733230736794,-72.18258517141992,116.0869275755108,-29.45400841209714,-90.81205774930946,1310.1184419339836,-100.0,-34.77727347558306,-24.9418222884555,45.18088180690544,173.35372568651115,-39.14091051358357,-95.66107734444806,28.774401544793456,-89.22072430353982,-88.23137988010737,7.8668037169186675,46.91564884523746,-45.027075126563616,9.835524146489542,-100.0,370.00818887170664,-9.758794826500687,-50.130903161977635,-55.49656309168501,69.56484993954119,-100.0,-46.159336098938006,430.93298758879064,-39.570393489880246,678.3834344099292,46.32900747250683,30.256517178421642,-57.87465243844474,-93.10294647053229,70.4324708573067,129.08258284883223,55.194883727382035,176.91849354931114,-80.65717628843181,-39.492939117216295,29.21903107796749,149.9830693637525,350.027650561957,-72.60048815761222,-26.16487185109065,-84.9912890365181,91.82934495290715,-20.400267133483162,-100.0,-69.14245287361052,-14.916117686274289,-17.22868038809867,-16.28773626369209,-72.54952025809773,-60.28703618866235,38.598274359883966,-34.22343199008288,160.45192711348514,148.172397255311,-1.393056161361403,221.43047598898056,114.73216991189904,-41.34561427605625,18.08179242151174,4.122301831013504,16.155623784862023,-11.88217034176913],\"type\":\"choropleth\"}],                        {\"font\":{\"color\":\"black\"},\"geo\":{\"projection\":{\"type\":\"equirectangular\"},\"showcoastlines\":false,\"showframe\":false},\"height\":600,\"paper_bgcolor\":\"white\",\"plot_bgcolor\":\"white\",\"title\":{\"text\":\"<b>Savanna & Forest Fires</b> %Change<br><sup>2018 vs 2001</sup>\",\"x\":0.5,\"xanchor\":\"center\"},\"width\":980,\"template\":{\"data\":{\"bar\":[{\"error_x\":{\"color\":\"#2a3f5f\"},\"error_y\":{\"color\":\"#2a3f5f\"},\"marker\":{\"line\":{\"color\":\"#E5ECF6\",\"width\":0.5},\"pattern\":{\"fillmode\":\"overlay\",\"size\":10,\"solidity\":0.2}},\"type\":\"bar\"}],\"barpolar\":[{\"marker\":{\"line\":{\"color\":\"#E5ECF6\",\"width\":0.5},\"pattern\":{\"fillmode\":\"overlay\",\"size\":10,\"solidity\":0.2}},\"type\":\"barpolar\"}],\"carpet\":[{\"aaxis\":{\"endlinecolor\":\"#2a3f5f\",\"gridcolor\":\"white\",\"linecolor\":\"white\",\"minorgridcolor\":\"white\",\"startlinecolor\":\"#2a3f5f\"},\"baxis\":{\"endlinecolor\":\"#2a3f5f\",\"gridcolor\":\"white\",\"linecolor\":\"white\",\"minorgridcolor\":\"white\",\"startlinecolor\":\"#2a3f5f\"},\"type\":\"carpet\"}],\"choropleth\":[{\"colorbar\":{\"outlinewidth\":0,\"ticks\":\"\"},\"type\":\"choropleth\"}],\"contour\":[{\"colorbar\":{\"outlinewidth\":0,\"ticks\":\"\"},\"colorscale\":[[0.0,\"#0d0887\"],[0.1111111111111111,\"#46039f\"],[0.2222222222222222,\"#7201a8\"],[0.3333333333333333,\"#9c179e\"],[0.4444444444444444,\"#bd3786\"],[0.5555555555555556,\"#d8576b\"],[0.6666666666666666,\"#ed7953\"],[0.7777777777777778,\"#fb9f3a\"],[0.8888888888888888,\"#fdca26\"],[1.0,\"#f0f921\"]],\"type\":\"contour\"}],\"contourcarpet\":[{\"colorbar\":{\"outlinewidth\":0,\"ticks\":\"\"},\"type\":\"contourcarpet\"}],\"heatmap\":[{\"colorbar\":{\"outlinewidth\":0,\"ticks\":\"\"},\"colorscale\":[[0.0,\"#0d0887\"],[0.1111111111111111,\"#46039f\"],[0.2222222222222222,\"#7201a8\"],[0.3333333333333333,\"#9c179e\"],[0.4444444444444444,\"#bd3786\"],[0.5555555555555556,\"#d8576b\"],[0.6666666666666666,\"#ed7953\"],[0.7777777777777778,\"#fb9f3a\"],[0.8888888888888888,\"#fdca26\"],[1.0,\"#f0f921\"]],\"type\":\"heatmap\"}],\"heatmapgl\":[{\"colorbar\":{\"outlinewidth\":0,\"ticks\":\"\"},\"colorscale\":[[0.0,\"#0d0887\"],[0.1111111111111111,\"#46039f\"],[0.2222222222222222,\"#7201a8\"],[0.3333333333333333,\"#9c179e\"],[0.4444444444444444,\"#bd3786\"],[0.5555555555555556,\"#d8576b\"],[0.6666666666666666,\"#ed7953\"],[0.7777777777777778,\"#fb9f3a\"],[0.8888888888888888,\"#fdca26\"],[1.0,\"#f0f921\"]],\"type\":\"heatmapgl\"}],\"histogram\":[{\"marker\":{\"pattern\":{\"fillmode\":\"overlay\",\"size\":10,\"solidity\":0.2}},\"type\":\"histogram\"}],\"histogram2d\":[{\"colorbar\":{\"outlinewidth\":0,\"ticks\":\"\"},\"colorscale\":[[0.0,\"#0d0887\"],[0.1111111111111111,\"#46039f\"],[0.2222222222222222,\"#7201a8\"],[0.3333333333333333,\"#9c179e\"],[0.4444444444444444,\"#bd3786\"],[0.5555555555555556,\"#d8576b\"],[0.6666666666666666,\"#ed7953\"],[0.7777777777777778,\"#fb9f3a\"],[0.8888888888888888,\"#fdca26\"],[1.0,\"#f0f921\"]],\"type\":\"histogram2d\"}],\"histogram2dcontour\":[{\"colorbar\":{\"outlinewidth\":0,\"ticks\":\"\"},\"colorscale\":[[0.0,\"#0d0887\"],[0.1111111111111111,\"#46039f\"],[0.2222222222222222,\"#7201a8\"],[0.3333333333333333,\"#9c179e\"],[0.4444444444444444,\"#bd3786\"],[0.5555555555555556,\"#d8576b\"],[0.6666666666666666,\"#ed7953\"],[0.7777777777777778,\"#fb9f3a\"],[0.8888888888888888,\"#fdca26\"],[1.0,\"#f0f921\"]],\"type\":\"histogram2dcontour\"}],\"mesh3d\":[{\"colorbar\":{\"outlinewidth\":0,\"ticks\":\"\"},\"type\":\"mesh3d\"}],\"parcoords\":[{\"line\":{\"colorbar\":{\"outlinewidth\":0,\"ticks\":\"\"}},\"type\":\"parcoords\"}],\"pie\":[{\"automargin\":true,\"type\":\"pie\"}],\"scatter\":[{\"marker\":{\"colorbar\":{\"outlinewidth\":0,\"ticks\":\"\"}},\"type\":\"scatter\"}],\"scatter3d\":[{\"line\":{\"colorbar\":{\"outlinewidth\":0,\"ticks\":\"\"}},\"marker\":{\"colorbar\":{\"outlinewidth\":0,\"ticks\":\"\"}},\"type\":\"scatter3d\"}],\"scattercarpet\":[{\"marker\":{\"colorbar\":{\"outlinewidth\":0,\"ticks\":\"\"}},\"type\":\"scattercarpet\"}],\"scattergeo\":[{\"marker\":{\"colorbar\":{\"outlinewidth\":0,\"ticks\":\"\"}},\"type\":\"scattergeo\"}],\"scattergl\":[{\"marker\":{\"colorbar\":{\"outlinewidth\":0,\"ticks\":\"\"}},\"type\":\"scattergl\"}],\"scattermapbox\":[{\"marker\":{\"colorbar\":{\"outlinewidth\":0,\"ticks\":\"\"}},\"type\":\"scattermapbox\"}],\"scatterpolar\":[{\"marker\":{\"colorbar\":{\"outlinewidth\":0,\"ticks\":\"\"}},\"type\":\"scatterpolar\"}],\"scatterpolargl\":[{\"marker\":{\"colorbar\":{\"outlinewidth\":0,\"ticks\":\"\"}},\"type\":\"scatterpolargl\"}],\"scatterternary\":[{\"marker\":{\"colorbar\":{\"outlinewidth\":0,\"ticks\":\"\"}},\"type\":\"scatterternary\"}],\"surface\":[{\"colorbar\":{\"outlinewidth\":0,\"ticks\":\"\"},\"colorscale\":[[0.0,\"#0d0887\"],[0.1111111111111111,\"#46039f\"],[0.2222222222222222,\"#7201a8\"],[0.3333333333333333,\"#9c179e\"],[0.4444444444444444,\"#bd3786\"],[0.5555555555555556,\"#d8576b\"],[0.6666666666666666,\"#ed7953\"],[0.7777777777777778,\"#fb9f3a\"],[0.8888888888888888,\"#fdca26\"],[1.0,\"#f0f921\"]],\"type\":\"surface\"}],\"table\":[{\"cells\":{\"fill\":{\"color\":\"#EBF0F8\"},\"line\":{\"color\":\"white\"}},\"header\":{\"fill\":{\"color\":\"#C8D4E3\"},\"line\":{\"color\":\"white\"}},\"type\":\"table\"}]},\"layout\":{\"annotationdefaults\":{\"arrowcolor\":\"#2a3f5f\",\"arrowhead\":0,\"arrowwidth\":1},\"autotypenumbers\":\"strict\",\"coloraxis\":{\"colorbar\":{\"outlinewidth\":0,\"ticks\":\"\"}},\"colorscale\":{\"diverging\":[[0,\"#8e0152\"],[0.1,\"#c51b7d\"],[0.2,\"#de77ae\"],[0.3,\"#f1b6da\"],[0.4,\"#fde0ef\"],[0.5,\"#f7f7f7\"],[0.6,\"#e6f5d0\"],[0.7,\"#b8e186\"],[0.8,\"#7fbc41\"],[0.9,\"#4d9221\"],[1,\"#276419\"]],\"sequential\":[[0.0,\"#0d0887\"],[0.1111111111111111,\"#46039f\"],[0.2222222222222222,\"#7201a8\"],[0.3333333333333333,\"#9c179e\"],[0.4444444444444444,\"#bd3786\"],[0.5555555555555556,\"#d8576b\"],[0.6666666666666666,\"#ed7953\"],[0.7777777777777778,\"#fb9f3a\"],[0.8888888888888888,\"#fdca26\"],[1.0,\"#f0f921\"]],\"sequentialminus\":[[0.0,\"#0d0887\"],[0.1111111111111111,\"#46039f\"],[0.2222222222222222,\"#7201a8\"],[0.3333333333333333,\"#9c179e\"],[0.4444444444444444,\"#bd3786\"],[0.5555555555555556,\"#d8576b\"],[0.6666666666666666,\"#ed7953\"],[0.7777777777777778,\"#fb9f3a\"],[0.8888888888888888,\"#fdca26\"],[1.0,\"#f0f921\"]]},\"colorway\":[\"#636efa\",\"#EF553B\",\"#00cc96\",\"#ab63fa\",\"#FFA15A\",\"#19d3f3\",\"#FF6692\",\"#B6E880\",\"#FF97FF\",\"#FECB52\"],\"font\":{\"color\":\"#2a3f5f\"},\"geo\":{\"bgcolor\":\"white\",\"lakecolor\":\"white\",\"landcolor\":\"#E5ECF6\",\"showlakes\":true,\"showland\":true,\"subunitcolor\":\"white\"},\"hoverlabel\":{\"align\":\"left\"},\"hovermode\":\"closest\",\"mapbox\":{\"style\":\"light\"},\"paper_bgcolor\":\"white\",\"plot_bgcolor\":\"#E5ECF6\",\"polar\":{\"angularaxis\":{\"gridcolor\":\"white\",\"linecolor\":\"white\",\"ticks\":\"\"},\"bgcolor\":\"#E5ECF6\",\"radialaxis\":{\"gridcolor\":\"white\",\"linecolor\":\"white\",\"ticks\":\"\"}},\"scene\":{\"xaxis\":{\"backgroundcolor\":\"#E5ECF6\",\"gridcolor\":\"white\",\"gridwidth\":2,\"linecolor\":\"white\",\"showbackground\":true,\"ticks\":\"\",\"zerolinecolor\":\"white\"},\"yaxis\":{\"backgroundcolor\":\"#E5ECF6\",\"gridcolor\":\"white\",\"gridwidth\":2,\"linecolor\":\"white\",\"showbackground\":true,\"ticks\":\"\",\"zerolinecolor\":\"white\"},\"zaxis\":{\"backgroundcolor\":\"#E5ECF6\",\"gridcolor\":\"white\",\"gridwidth\":2,\"linecolor\":\"white\",\"showbackground\":true,\"ticks\":\"\",\"zerolinecolor\":\"white\"}},\"shapedefaults\":{\"line\":{\"color\":\"#2a3f5f\"}},\"ternary\":{\"aaxis\":{\"gridcolor\":\"white\",\"linecolor\":\"white\",\"ticks\":\"\"},\"baxis\":{\"gridcolor\":\"white\",\"linecolor\":\"white\",\"ticks\":\"\"},\"bgcolor\":\"#E5ECF6\",\"caxis\":{\"gridcolor\":\"white\",\"linecolor\":\"white\",\"ticks\":\"\"}},\"title\":{\"x\":0.05},\"xaxis\":{\"automargin\":true,\"gridcolor\":\"white\",\"linecolor\":\"white\",\"ticks\":\"\",\"title\":{\"standoff\":15},\"zerolinecolor\":\"white\",\"zerolinewidth\":2},\"yaxis\":{\"automargin\":true,\"gridcolor\":\"white\",\"linecolor\":\"white\",\"ticks\":\"\",\"title\":{\"standoff\":15},\"zerolinecolor\":\"white\",\"zerolinewidth\":2}}}},                        {\"responsive\": true}                    ).then(function(){\n",
       "                            \n",
       "var gd = document.getElementById('12a6ad30-ca46-4291-ae7b-526ed9c22ccf');\n",
       "var x = new MutationObserver(function (mutations, observer) {{\n",
       "        var display = window.getComputedStyle(gd).display;\n",
       "        if (!display || display === 'none') {{\n",
       "            console.log([gd, 'removed!']);\n",
       "            Plotly.purge(gd);\n",
       "            observer.disconnect();\n",
       "        }}\n",
       "}});\n",
       "\n",
       "// Listen for the removal of the full notebook cells\n",
       "var notebookContainer = gd.closest('#notebook-container');\n",
       "if (notebookContainer) {{\n",
       "    x.observe(notebookContainer, {childList: true});\n",
       "}}\n",
       "\n",
       "// Listen for the clearing of the current output cell\n",
       "var outputEl = gd.closest('.output');\n",
       "if (outputEl) {{\n",
       "    x.observe(outputEl, {childList: true});\n",
       "}}\n",
       "\n",
       "                        })                };                });            </script>        </div>"
      ]
     },
     "metadata": {},
     "output_type": "display_data"
    }
   ],
   "source": [
    "# Create the layout of the chart\n",
    "title = '<b>Savanna & Forest Fires</b> %Change<br><sup>2018 vs 2001</sup>'\n",
    "layout2 = go.Layout(title = {'text' : title, \n",
    "                            'x':0.5, 'xanchor': 'center'}, \n",
    "                   font = {\"color\" : 'black'},\n",
    "                   width=980, height=600, plot_bgcolor=\"white\", paper_bgcolor=\"white\",\n",
    "                   geo=dict(showframe=False, showcoastlines=False, projection_type='equirectangular'\n",
    "                           )\n",
    "                  )\n",
    "\n",
    "# Create the figure\n",
    "fig2 = go.Figure(layout = layout2)\n",
    "\n",
    "#create new color scale \n",
    "#setting values for 0, 100, 1000 % increase\n",
    "zero = 100/(fires['%change'].max()-fires['%change'].min())\n",
    "hundred = 200/(fires['%change'].max()-fires['%change'].min())\n",
    "thousand = 1100/(fires['%change'].max()-fires['%change'].min())\n",
    "\n",
    "cs =[[0, \"rgb(165,0,38)\"],[1-thousand, \"rgb(165,0,38)\"],[1-hundred, \"rgb(230,180,0)\"], [1-zero, \"rgb(255,255,255)\"], [1, \"rgb(0,38,167)\"]]\n",
    "\n",
    "# Create the Choropleth map tracing\n",
    "trace2 = go.Choropleth(\n",
    "    locations = fires['Area Code (ISO3)'],\n",
    "    z = fires['%change'],\n",
    "    text = fires['Area'],\n",
    "    colorscale = cs,\n",
    "    autocolorscale=False,\n",
    "    reversescale=True,\n",
    "    marker_line_color='#2E2E2E',\n",
    "    marker_line_width=0.5,\n",
    "    colorbar_tickprefix = '%',\n",
    "    colorbar_title = '%change',\n",
    ")\n",
    "\n",
    "fig2.add_trace(trace2)\n",
    "fig2.show()"
   ]
  }
 ],
 "metadata": {
  "kernelspec": {
   "display_name": "challenge1",
   "language": "python",
   "name": "challenge1"
  },
  "language_info": {
   "codemirror_mode": {
    "name": "ipython",
    "version": 3
   },
   "file_extension": ".py",
   "mimetype": "text/x-python",
   "name": "python",
   "nbconvert_exporter": "python",
   "pygments_lexer": "ipython3",
   "version": "3.8.13"
  }
 },
 "nbformat": 4,
 "nbformat_minor": 4
}
